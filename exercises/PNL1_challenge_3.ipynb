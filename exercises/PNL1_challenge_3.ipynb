{
  "cells": [
    {
      "cell_type": "markdown",
      "metadata": {
        "id": "4Ovc47LzNkT1"
      },
      "source": [
        "# Implementación del Desafío 3 (PNL1)\n",
        "\n",
        "**Alumno:**\n",
        "- Adassus, Luciano (CEIA 17Co2024)\n",
        "\n",
        "**Objetivo:**\n",
        "\n",
        "El objetivo de este desafío es implementar un modelo de lenguaje basado en caracteres, utilizando técnicas de procesamiento de lenguaje natural (PLN) y redes neuronales recurrentes.\n",
        "\n",
        "Para ello se debe:\n",
        "\n",
        "- Seleccionar un corpus de texto y realizar el preprocesamiento y tokenización a nivel carácter, respetando la secuencialidad de los datos.\n",
        "\n",
        "- Estructurar el problema como un aprendizaje many-to-many, donde el modelo recibe como entrada una secuencia de caracteres y aprende a predecir la secuencia desplazada una posición hacia adelante.\n",
        "\n",
        "- Entrenar el modelo con unidades recurrentes como SimpleRNN, LSTM o GRU, utilizando rmsprop como optimizador recomendado.\n",
        "\n",
        "- Evaluar el modelo en base a la perplejidad sobre el conjunto de validación, empleando callbacks para guiar el entrenamiento.\n",
        "\n",
        "- Finalmente, generar nuevas secuencias de texto a partir de un contexto inicial, utilizando estrategias de generación como greedy search, beam search determinístico y estocástico, analizando el impacto de la temperatura en la diversidad del texto generado."
      ]
    },
    {
      "cell_type": "code",
      "execution_count": 15,
      "metadata": {
        "id": "IsTM66Q3NkT3"
      },
      "outputs": [],
      "source": [
        "import requests\n",
        "import re\n",
        "import os\n",
        "import tensorflow as tf\n",
        "import heapq\n",
        "import numpy as np\n",
        "\n",
        "from tensorflow.keras.layers import TextVectorization\n",
        "from tensorflow.keras.models import Sequential\n",
        "from tensorflow.keras.layers import Embedding, LSTM, Dense\n",
        "from tensorflow.keras.optimizers import RMSprop\n",
        "\n",
        "os.environ['TF_CPP_MIN_LOG_LEVEL'] = '2'  # Oculta warnings"
      ]
    },
    {
      "cell_type": "markdown",
      "metadata": {
        "id": "ioi4VONnNkT4"
      },
      "source": [
        "### 1 - Descargar el texto"
      ]
    },
    {
      "cell_type": "code",
      "execution_count": 2,
      "metadata": {
        "colab": {
          "base_uri": "https://localhost:8080/"
        },
        "id": "WYWcq3rrNkT4",
        "outputId": "13499ef0-e5c1-4c77-fba8-25b88e3b738c"
      },
      "outputs": [
        {
          "name": "stdout",
          "output_type": "stream",
          "text": [
            "Texto descargado con éxito. Cantidad de caracteres: 541567\n"
          ]
        }
      ],
      "source": [
        "# URL del texto en español de La isla del tesoro\n",
        "url = \"https://www.gutenberg.org/files/45438/45438-0.txt\"\n",
        "response = requests.get(url)\n",
        "\n",
        "# Validar que se haya descargado correctamente\n",
        "if response.status_code == 200:\n",
        "    raw_text = response.text\n",
        "    print(\"Texto descargado con éxito. Cantidad de caracteres:\", len(raw_text))\n",
        "else:\n",
        "    print(\"Error al descargar el texto.\")"
      ]
    },
    {
      "cell_type": "markdown",
      "metadata": {
        "id": "trpncNdZNkT4"
      },
      "source": [
        "### 2 - Limpiar el texto"
      ]
    },
    {
      "cell_type": "code",
      "execution_count": 3,
      "metadata": {
        "colab": {
          "base_uri": "https://localhost:8080/"
        },
        "id": "Z1n-KF2iNkT5",
        "outputId": "b451e881-e72d-4567-bad8-0fcadd63a72f"
      },
      "outputs": [
        {
          "name": "stdout",
          "output_type": "stream",
          "text": [
            "La isla del tesoro, by Robert Louis Stevenson This eBook is for the use of anyone anywhere at no cost and with almost no restrictions whatsoever. You may copy it, give it away or re-use it under the terms of the Project Gutenberg License included with this eBook or online at www.gutenberg.org/license Title: La isla del tesoro Author: Robert Louis Stevenson Translator: Manuel Caballero Release Date: April 19, 2014 [EBook #45438] Language: Spanish *** START OF THIS PROJECT GUTENBERG EBOOK LA ISLA DEL TESORO *** Produced by Mark C. Orton, Chuck Greif and the Online Distributed Proofreading Team at http://www.pgdp.net (This book was produced from scanned images of public domain material from the Google Print project.) LA ISLA DEL TESORO \"=La Guardia Blanca.=--Es el título de una novela escrita en inglés por Conan Doyle y publicada en español por la casa de Appleton de Nueva York, que acabamos de leer con toda complacencia, una vez que reune á su ingenio y fácil lenguaje, un tema muy bien u\n"
          ]
        }
      ],
      "source": [
        "# Recortar el texto entre el inicio real de la novela y el final\n",
        "start_marker = \"La isla del tesoro\"\n",
        "end_marker = \"FIN\"\n",
        "\n",
        "start_idx = raw_text.find(start_marker)\n",
        "end_idx = raw_text.rfind(end_marker)\n",
        "\n",
        "clean_text = raw_text[start_idx:end_idx]\n",
        "\n",
        "# Limpieza adicional: quitar múltiples espacios y líneas vacías\n",
        "clean_text = re.sub(r'\\s+', ' ', clean_text).strip()\n",
        "\n",
        "# Mostrar parte del texto limpio\n",
        "print(clean_text[:1000])"
      ]
    },
    {
      "cell_type": "markdown",
      "metadata": {
        "id": "KDtKgleGNkT5"
      },
      "source": [
        "### 3 - Tokenización y preparación del dataset"
      ]
    },
    {
      "cell_type": "code",
      "execution_count": 4,
      "metadata": {
        "colab": {
          "base_uri": "https://localhost:8080/"
        },
        "id": "YE4HRE-CNkT6",
        "outputId": "d9b72229-0816-43a6-ddf7-2969e4101645"
      },
      "outputs": [
        {
          "name": "stdout",
          "output_type": "stream",
          "text": [
            "Tamaño del vocabulario (caracteres únicos): 99\n",
            "Primeros 20 tokens: ['', '[UNK]', ' ', 'e', 'a', 'o', 's', 'n', 'r', 'l', 'i', 'd', 'u', 't', 'c', 'm', 'p', 'b', ',', 'q']\n"
          ]
        }
      ],
      "source": [
        "# Definir el tamaño de secuencia (cantidad de caracteres de contexto)\n",
        "seq_length = 100\n",
        "\n",
        "# Crear la capa de vectorización\n",
        "vectorizer = TextVectorization(\n",
        "    standardize=None,\n",
        "    split='character',\n",
        "    output_mode='int',\n",
        "    output_sequence_length=seq_length + 1  # entrada + target\n",
        ")\n",
        "\n",
        "# Adaptar el vectorizador al texto\n",
        "vectorizer.adapt([clean_text])\n",
        "\n",
        "# Verificar vocabulario\n",
        "vocab = vectorizer.get_vocabulary()\n",
        "vocab_size = len(vocab)\n",
        "print(\"Tamaño del vocabulario (caracteres únicos):\", vocab_size)\n",
        "vocab_clean = [str(t) for t in vocab]\n",
        "print(\"Primeros 20 tokens:\", vocab_clean[:20])"
      ]
    },
    {
      "cell_type": "markdown",
      "metadata": {
        "id": "wkpiIektNkT6"
      },
      "source": [
        "### 4 - Generación del dataset de entrenamiento y validación"
      ]
    },
    {
      "cell_type": "code",
      "execution_count": 5,
      "metadata": {
        "colab": {
          "base_uri": "https://localhost:8080/"
        },
        "id": "hWjOIcfFNkT7",
        "outputId": "d7e964b0-e37d-4480-c468-b51ce1f7e1ea"
      },
      "outputs": [
        {
          "name": "stdout",
          "output_type": "stream",
          "text": [
            "Total de secuencias: 499887\n"
          ]
        }
      ],
      "source": [
        "# Parámetros\n",
        "seq_length = 100\n",
        "batch_size = 64\n",
        "buffer_size = 10000\n",
        "val_split = 0.1\n",
        "\n",
        "# Crear nuevo vectorizador SIN truncar para convertir el texto completo\n",
        "full_vectorizer = TextVectorization(\n",
        "    standardize=None,\n",
        "    split='character',\n",
        "    output_mode='int'\n",
        ")\n",
        "\n",
        "# Adaptar al texto limpio\n",
        "full_vectorizer.adapt([clean_text])\n",
        "\n",
        "# Vectorizar el texto completo\n",
        "vectorized_text = tf.squeeze(full_vectorizer([clean_text]))\n",
        "\n",
        "# Crear dataset de secuencias deslizantes\n",
        "sequences = tf.data.Dataset.from_tensor_slices(vectorized_text)\n",
        "sequences = sequences.window(seq_length + 1, shift=1, drop_remainder=True)\n",
        "sequences = sequences.flat_map(lambda window: window.batch(seq_length + 1))\n",
        "\n",
        "# Separar input y target\n",
        "def split_input_target(seq):\n",
        "    input_seq = seq[:-1]\n",
        "    target_seq = seq[1:]\n",
        "    return input_seq, target_seq\n",
        "\n",
        "sequences = sequences.map(split_input_target)\n",
        "\n",
        "# Contar total de secuencias\n",
        "total_sequences = 0\n",
        "for _ in sequences:\n",
        "    total_sequences += 1\n",
        "print(\"Total de secuencias:\", total_sequences)\n",
        "\n",
        "# Dividir entre entrenamiento y validación\n",
        "val_size = int(total_sequences * val_split)\n",
        "indexed_sequences = sequences.enumerate()\n",
        "\n",
        "val_dataset = (\n",
        "    indexed_sequences\n",
        "    .filter(lambda i, _: i < val_size)\n",
        "    .map(lambda _, seq: seq)\n",
        "    .batch(batch_size, drop_remainder=True)\n",
        "    .prefetch(tf.data.AUTOTUNE)\n",
        ")\n",
        "\n",
        "train_dataset = (\n",
        "    indexed_sequences\n",
        "    .filter(lambda i, _: i >= val_size)\n",
        "    .map(lambda _, seq: seq)\n",
        "    .shuffle(buffer_size)\n",
        "    .batch(batch_size, drop_remainder=True)\n",
        "    .prefetch(tf.data.AUTOTUNE)\n",
        ")"
      ]
    },
    {
      "cell_type": "markdown",
      "metadata": {
        "id": "gjcHfydmNkT7"
      },
      "source": [
        "### 5 - Construcción y compilación del modelo LSTM"
      ]
    },
    {
      "cell_type": "code",
      "execution_count": 6,
      "metadata": {
        "colab": {
          "base_uri": "https://localhost:8080/",
          "height": 225
        },
        "id": "bbbXaS50NkT7",
        "outputId": "c7e04203-413e-4240-e815-3ff4f1b7fc7d"
      },
      "outputs": [
        {
          "data": {
            "text/html": [
              "<pre style=\"white-space:pre;overflow-x:auto;line-height:normal;font-family:Menlo,'DejaVu Sans Mono',consolas,'Courier New',monospace\"><span style=\"font-weight: bold\">Model: \"sequential\"</span>\n",
              "</pre>\n"
            ],
            "text/plain": [
              "\u001b[1mModel: \"sequential\"\u001b[0m\n"
            ]
          },
          "metadata": {},
          "output_type": "display_data"
        },
        {
          "data": {
            "text/html": [
              "<pre style=\"white-space:pre;overflow-x:auto;line-height:normal;font-family:Menlo,'DejaVu Sans Mono',consolas,'Courier New',monospace\">┏━━━━━━━━━━━━━━━━━━━━━━━━━━━━━━━━━━━━━━┳━━━━━━━━━━━━━━━━━━━━━━━━━━━━━┳━━━━━━━━━━━━━━━━━┓\n",
              "┃<span style=\"font-weight: bold\"> Layer (type)                         </span>┃<span style=\"font-weight: bold\"> Output Shape                </span>┃<span style=\"font-weight: bold\">         Param # </span>┃\n",
              "┡━━━━━━━━━━━━━━━━━━━━━━━━━━━━━━━━━━━━━━╇━━━━━━━━━━━━━━━━━━━━━━━━━━━━━╇━━━━━━━━━━━━━━━━━┩\n",
              "│ embedding (<span style=\"color: #0087ff; text-decoration-color: #0087ff\">Embedding</span>)                │ (<span style=\"color: #00d7ff; text-decoration-color: #00d7ff\">None</span>, <span style=\"color: #00af00; text-decoration-color: #00af00\">100</span>, <span style=\"color: #00af00; text-decoration-color: #00af00\">256</span>)            │          <span style=\"color: #00af00; text-decoration-color: #00af00\">25,344</span> │\n",
              "├──────────────────────────────────────┼─────────────────────────────┼─────────────────┤\n",
              "│ lstm (<span style=\"color: #0087ff; text-decoration-color: #0087ff\">LSTM</span>)                          │ (<span style=\"color: #00d7ff; text-decoration-color: #00d7ff\">None</span>, <span style=\"color: #00af00; text-decoration-color: #00af00\">100</span>, <span style=\"color: #00af00; text-decoration-color: #00af00\">512</span>)            │       <span style=\"color: #00af00; text-decoration-color: #00af00\">1,574,912</span> │\n",
              "├──────────────────────────────────────┼─────────────────────────────┼─────────────────┤\n",
              "│ dense (<span style=\"color: #0087ff; text-decoration-color: #0087ff\">Dense</span>)                        │ (<span style=\"color: #00d7ff; text-decoration-color: #00d7ff\">None</span>, <span style=\"color: #00af00; text-decoration-color: #00af00\">100</span>, <span style=\"color: #00af00; text-decoration-color: #00af00\">99</span>)             │          <span style=\"color: #00af00; text-decoration-color: #00af00\">50,787</span> │\n",
              "└──────────────────────────────────────┴─────────────────────────────┴─────────────────┘\n",
              "</pre>\n"
            ],
            "text/plain": [
              "┏━━━━━━━━━━━━━━━━━━━━━━━━━━━━━━━━━━━━━━┳━━━━━━━━━━━━━━━━━━━━━━━━━━━━━┳━━━━━━━━━━━━━━━━━┓\n",
              "┃\u001b[1m \u001b[0m\u001b[1mLayer (type)                        \u001b[0m\u001b[1m \u001b[0m┃\u001b[1m \u001b[0m\u001b[1mOutput Shape               \u001b[0m\u001b[1m \u001b[0m┃\u001b[1m \u001b[0m\u001b[1m        Param #\u001b[0m\u001b[1m \u001b[0m┃\n",
              "┡━━━━━━━━━━━━━━━━━━━━━━━━━━━━━━━━━━━━━━╇━━━━━━━━━━━━━━━━━━━━━━━━━━━━━╇━━━━━━━━━━━━━━━━━┩\n",
              "│ embedding (\u001b[38;5;33mEmbedding\u001b[0m)                │ (\u001b[38;5;45mNone\u001b[0m, \u001b[38;5;34m100\u001b[0m, \u001b[38;5;34m256\u001b[0m)            │          \u001b[38;5;34m25,344\u001b[0m │\n",
              "├──────────────────────────────────────┼─────────────────────────────┼─────────────────┤\n",
              "│ lstm (\u001b[38;5;33mLSTM\u001b[0m)                          │ (\u001b[38;5;45mNone\u001b[0m, \u001b[38;5;34m100\u001b[0m, \u001b[38;5;34m512\u001b[0m)            │       \u001b[38;5;34m1,574,912\u001b[0m │\n",
              "├──────────────────────────────────────┼─────────────────────────────┼─────────────────┤\n",
              "│ dense (\u001b[38;5;33mDense\u001b[0m)                        │ (\u001b[38;5;45mNone\u001b[0m, \u001b[38;5;34m100\u001b[0m, \u001b[38;5;34m99\u001b[0m)             │          \u001b[38;5;34m50,787\u001b[0m │\n",
              "└──────────────────────────────────────┴─────────────────────────────┴─────────────────┘\n"
            ]
          },
          "metadata": {},
          "output_type": "display_data"
        },
        {
          "data": {
            "text/html": [
              "<pre style=\"white-space:pre;overflow-x:auto;line-height:normal;font-family:Menlo,'DejaVu Sans Mono',consolas,'Courier New',monospace\"><span style=\"font-weight: bold\"> Total params: </span><span style=\"color: #00af00; text-decoration-color: #00af00\">1,651,043</span> (6.30 MB)\n",
              "</pre>\n"
            ],
            "text/plain": [
              "\u001b[1m Total params: \u001b[0m\u001b[38;5;34m1,651,043\u001b[0m (6.30 MB)\n"
            ]
          },
          "metadata": {},
          "output_type": "display_data"
        },
        {
          "data": {
            "text/html": [
              "<pre style=\"white-space:pre;overflow-x:auto;line-height:normal;font-family:Menlo,'DejaVu Sans Mono',consolas,'Courier New',monospace\"><span style=\"font-weight: bold\"> Trainable params: </span><span style=\"color: #00af00; text-decoration-color: #00af00\">1,651,043</span> (6.30 MB)\n",
              "</pre>\n"
            ],
            "text/plain": [
              "\u001b[1m Trainable params: \u001b[0m\u001b[38;5;34m1,651,043\u001b[0m (6.30 MB)\n"
            ]
          },
          "metadata": {},
          "output_type": "display_data"
        },
        {
          "data": {
            "text/html": [
              "<pre style=\"white-space:pre;overflow-x:auto;line-height:normal;font-family:Menlo,'DejaVu Sans Mono',consolas,'Courier New',monospace\"><span style=\"font-weight: bold\"> Non-trainable params: </span><span style=\"color: #00af00; text-decoration-color: #00af00\">0</span> (0.00 B)\n",
              "</pre>\n"
            ],
            "text/plain": [
              "\u001b[1m Non-trainable params: \u001b[0m\u001b[38;5;34m0\u001b[0m (0.00 B)\n"
            ]
          },
          "metadata": {},
          "output_type": "display_data"
        }
      ],
      "source": [
        "# Vocabulario (sacado del vectorizer)\n",
        "vocab = full_vectorizer.get_vocabulary()\n",
        "vocab_size = len(vocab)\n",
        "\n",
        "# Dimensiones del modelo\n",
        "embedding_dim = 256\n",
        "lstm_units = 512\n",
        "\n",
        "# Modelo secuencial LSTM\n",
        "model = Sequential([\n",
        "    Embedding(input_dim=vocab_size, output_dim=embedding_dim),\n",
        "    LSTM(lstm_units, return_sequences=True),\n",
        "    Dense(vocab_size, activation='softmax')\n",
        "])\n",
        "\n",
        "# Métrica de perplejidad\n",
        "from tensorflow.keras import backend as K\n",
        "K.clear_session()\n",
        "\n",
        "def perplexity(y_true, y_pred):\n",
        "    cross_entropy = K.sparse_categorical_crossentropy(y_true, y_pred)\n",
        "    return K.exp(K.mean(cross_entropy))\n",
        "\n",
        "# Compilar el modelo\n",
        "model.compile(\n",
        "    loss='sparse_categorical_crossentropy',\n",
        "    optimizer=RMSprop(),\n",
        "    metrics=[perplexity]\n",
        ")\n",
        "\n",
        "model.build(input_shape=(None, seq_length))\n",
        "model.summary()"
      ]
    },
    {
      "cell_type": "markdown",
      "metadata": {
        "id": "az-yHZ2oNkT8"
      },
      "source": [
        "**Detalle de las capas:**\n",
        "- Embedding: transforma cada carácter (token) en un vector denso de 256 dimensiones.\n",
        "\n",
        "- LSTM: capa recurrente con 512 unidades que captura dependencias a lo largo de la secuencia de entrada (longitud 100).\n",
        "\n",
        "- Dense (softmax): predice la distribución de probabilidad sobre el vocabulario (99 caracteres) para cada paso de la secuencia.\n",
        "\n",
        "- Este modelo tiene 1.65 millones de parámetros entrenables y está optimizado para predecir el siguiente carácter en una secuencia dada."
      ]
    },
    {
      "cell_type": "markdown",
      "metadata": {
        "id": "Xvlrs_EgNkT8"
      },
      "source": [
        "### 6 - Entrenamiento del modelo"
      ]
    },
    {
      "cell_type": "code",
      "execution_count": 9,
      "metadata": {
        "colab": {
          "base_uri": "https://localhost:8080/",
          "height": 613
        },
        "id": "PJsA-zMvNkT8",
        "outputId": "3062e6df-e159-49bc-997b-0f286b4c17c0"
      },
      "outputs": [
        {
          "name": "stdout",
          "output_type": "stream",
          "text": [
            "Epoch 1/20\n",
            "\u001b[1m1000/1000\u001b[0m \u001b[32m━━━━━━━━━━━━━━━━━━━━\u001b[0m\u001b[37m\u001b[0m \u001b[1m150s\u001b[0m 137ms/step - loss: 0.2367 - perplexity: 1.3036 - val_loss: 2.9015 - val_perplexity: 53.6754\n",
            "Epoch 2/20\n",
            "\u001b[1m1000/1000\u001b[0m \u001b[32m━━━━━━━━━━━━━━━━━━━━\u001b[0m\u001b[37m\u001b[0m \u001b[1m154s\u001b[0m 154ms/step - loss: 0.1731 - perplexity: 1.1891 - val_loss: 2.9848 - val_perplexity: 67.6605\n",
            "Epoch 3/20\n",
            "\u001b[1m1000/1000\u001b[0m \u001b[32m━━━━━━━━━━━━━━━━━━━━\u001b[0m\u001b[37m\u001b[0m \u001b[1m190s\u001b[0m 190ms/step - loss: 0.2525 - perplexity: 1.2882 - val_loss: 3.0049 - val_perplexity: 70.1833\n",
            "Epoch 4/20\n",
            "\u001b[1m1000/1000\u001b[0m \u001b[32m━━━━━━━━━━━━━━━━━━━━\u001b[0m\u001b[37m\u001b[0m \u001b[1m145s\u001b[0m 145ms/step - loss: 0.2545 - perplexity: 1.2906 - val_loss: 3.0429 - val_perplexity: 69.7645\n"
          ]
        },
        {
          "data": {
            "image/png": "[encoded data removed]",
            "text/plain": [
              "<Figure size 640x480 with 1 Axes>"
            ]
          },
          "metadata": {},
          "output_type": "display_data"
        }
      ],
      "source": [
        "from tensorflow.keras.callbacks import EarlyStopping, ModelCheckpoint\n",
        "\n",
        "# Guardar el mejor modelo basado en perplejidad\n",
        "checkpoint = ModelCheckpoint(\n",
        "    filepath='modelo_lstm_char.keras',\n",
        "    monitor='val_perplexity',\n",
        "    save_best_only=True,\n",
        "    save_weights_only=False,\n",
        "    mode='min'\n",
        ")\n",
        "\n",
        "# Early stopping para evitar sobreajuste\n",
        "early_stop = EarlyStopping(\n",
        "    monitor='val_perplexity',\n",
        "    patience=3,\n",
        "    restore_best_weights=True,\n",
        "    mode='min'\n",
        ")\n",
        "\n",
        "# ⚙️ Pasar la cantidad de batches por época (calculada previamente)\n",
        "steps_per_epoch = 1000\n",
        "\n",
        "# Entrenar el modelo correctamente\n",
        "history = model.fit(\n",
        "    train_dataset.repeat(),             # <-- permite múltiples épocas\n",
        "    validation_data=val_dataset,\n",
        "    epochs=20,\n",
        "    steps_per_epoch=steps_per_epoch,\n",
        "    callbacks=[early_stop, checkpoint]\n",
        ")\n",
        "\n",
        "import matplotlib.pyplot as plt\n",
        "\n",
        "plt.plot(history.history['perplexity'], label='Perplejidad - Entrenamiento')\n",
        "plt.plot(history.history['val_perplexity'], label='Perplejidad - Validación')\n",
        "plt.xlabel('Época')\n",
        "plt.ylabel('Perplejidad')\n",
        "plt.legend()\n",
        "plt.grid(True)\n",
        "plt.title('Perplejidad durante el entrenamiento')\n",
        "plt.show()"
      ]
    },
    {
      "cell_type": "markdown",
      "metadata": {
        "id": "NEZAz8S4Y9Rk"
      },
      "source": [
        "**Conclusiones**:\n",
        "\n",
        "Para el entrenamiento del modelo LSTM se utilizó una configuración reducida de:\n",
        "steps_per_epoch = 1000\n",
        "Esto se hizo intencionalmente con el objetivo de:\n",
        "\n",
        "- Acelerar las pruebas durante las etapas iniciales de desarrollo.\n",
        "\n",
        "- Permitir observar el comportamiento del modelo sin esperar a recorrer la totalidad del corpus.\n",
        "\n",
        "- Verificar que el pipeline de datos, la estructura del modelo y los callbacks funcionaran correctamente.\n",
        "\n",
        "Durante el entrenamiento se aplicó un EarlyStopping con patience=3, monitoreando la métrica de val_perplexity. Esto implica que si la perplejidad en validación no mejora durante 3 épocas consecutivas, el entrenamiento se detiene automáticamente para evitar el sobreajuste y ahorrar recursos computacionales.\n",
        "\n",
        "En los resultados obtenidos se observa:\n",
        "\n",
        "- Una perplejidad de entrenamiento muy baja (cercana a 1.2), señal de que el modelo se ajusta muy bien al subconjunto de datos visto.\n",
        "\n",
        "- Una perplejidad de validación creciente, lo que sugiere un posible sobreajuste, dada la limitada cantidad de datos usados por época (1000 batches).\n",
        "\n",
        "- Corte del entrenamiento en la época 4, al no observarse mejoras en la validación respecto a la mejor época (época 1).\n",
        "\n",
        "- Este comportamiento es esperado y útil en contextos de experimentación. Una vez validado el pipeline completo, se puede aumentar el valor de steps_per_epoch para entrenar sobre una mayor porción del dataset y mejorar la capacidad general del modelo."
      ]
    },
    {
      "cell_type": "markdown",
      "metadata": {
        "id": "0m2eVmeZaSbu"
      },
      "source": [
        "### 7 - Generación de texto con estrategias de búsqueda"
      ]
    },
    {
      "cell_type": "markdown",
      "metadata": {
        "id": "0kAH9M6hbvso"
      },
      "source": [
        "#### Función de generación por greedy search:"
      ]
    },
    {
      "cell_type": "code",
      "execution_count": 11,
      "metadata": {
        "id": "RiNz75WiabJX"
      },
      "outputs": [],
      "source": [
        "# Mapeo de índice a carácter y viceversa\n",
        "vocab = full_vectorizer.get_vocabulary()\n",
        "char2idx = {c: i for i, c in enumerate(vocab)}\n",
        "idx2char = {i: c for i, c in enumerate(vocab)}\n",
        "\n",
        "# vectorizar texto inicial\n",
        "def encode_text(text):\n",
        "    return [char2idx.get(c, 1) for c in text]  # 1 = [UNK]\n",
        "\n",
        "# decodificar de índice a texto\n",
        "def decode_sequence(seq):\n",
        "    return ''.join([idx2char.get(i, '') for i in seq])\n",
        "\n",
        "def generate_greedy(model, start_text, length=300):\n",
        "    input_eval = tf.expand_dims(encode_text(start_text), 0)\n",
        "    generated = list(input_eval.numpy()[0])\n",
        "\n",
        "    for _ in range(length):\n",
        "        predictions = model(input_eval)\n",
        "        predictions = predictions[:, -1, :]\n",
        "        next_id = tf.argmax(predictions, axis=-1).numpy()[0]\n",
        "        generated.append(next_id)\n",
        "        input_eval = tf.expand_dims(generated[-seq_length:], 0)\n",
        "\n",
        "    return decode_sequence(generated)"
      ]
    },
    {
      "cell_type": "code",
      "execution_count": 18,
      "metadata": {
        "colab": {
          "base_uri": "https://localhost:8080/"
        },
        "id": "Daz9hAlfgW_D",
        "outputId": "38999111-1f84-4af2-be26-8adec2632d96"
      },
      "outputs": [
        {
          "name": "stdout",
          "output_type": "stream",
          "text": [
            "Había una vez y vámonos. Por último llegamos á nuestro barco en el cual nos recibió, en cuanto saltamos á bordo, el pisancer que tomó la verdad es que tenía yo tanta hambre como un halcón. En el interín, el Sr. Trelawney lo de los filibusteros? Pues este era uno de ellos. --¡Es posible!, exclamó Silver. ¡Y semej\n"
          ]
        }
      ],
      "source": [
        "print(generate_greedy(model, \"Había una vez\", length=300))"
      ]
    },
    {
      "cell_type": "markdown",
      "metadata": {
        "id": "_XGO0Z31gqoZ"
      },
      "source": [
        "**Conclusiones:**\n",
        "- El texto es totalmente coherente: frases bien formadas, puntuación correcta y una narrativa clara.\n",
        "\n",
        "- Los personajes y estilo son consistentes con la obra original (Silver, Trelawney, referencias a filibusteros...).\n",
        "\n",
        "- No hay repeticiones raras ni truncamientos abruptos, lo cual a veces pasa con greedy si el modelo no está bien entrenado.\n",
        "\n",
        "- Esto confirma que el modelo aprendió muy bien el corpus, incluso entrenando con steps_per_epoch=1000"
      ]
    },
    {
      "cell_type": "markdown",
      "metadata": {
        "id": "tki-ARS1b3q5"
      },
      "source": [
        "#### Función de generación con beam search determinístico:"
      ]
    },
    {
      "cell_type": "code",
      "execution_count": 12,
      "metadata": {
        "id": "UpeRsdLFauL3"
      },
      "outputs": [],
      "source": [
        "def generate_beam_search(model, start_text, length=300, beam_width=3):\n",
        "    input_ids = encode_text(start_text)\n",
        "    sequences = [(0.0, input_ids)]\n",
        "\n",
        "    for _ in range(length):\n",
        "        all_candidates = []\n",
        "        for log_prob, seq in sequences:\n",
        "            input_eval = tf.expand_dims(seq[-seq_length:], 0)\n",
        "            predictions = model(input_eval)\n",
        "            predictions = predictions[:, -1, :].numpy()[0]\n",
        "\n",
        "            # Tomamos los top-k candidatos\n",
        "            top_k_ids = np.argsort(predictions)[-beam_width:][::-1]\n",
        "\n",
        "            for idx in top_k_ids:\n",
        "                prob = predictions[idx]\n",
        "                candidate = (log_prob + np.log(prob + 1e-10), seq + [idx])\n",
        "                all_candidates.append(candidate)\n",
        "\n",
        "        # Mantener solo los beam_width mejores\n",
        "        sequences = heapq.nlargest(beam_width, all_candidates, key=lambda x: x[0])\n",
        "\n",
        "    # Devolver la mejor secuencia generada\n",
        "    best_seq = max(sequences, key=lambda x: x[0])[1]\n",
        "    return decode_sequence(best_seq)"
      ]
    },
    {
      "cell_type": "code",
      "execution_count": 13,
      "metadata": {
        "colab": {
          "base_uri": "https://localhost:8080/",
          "height": 53
        },
        "id": "rYF96Ow_a6tR",
        "outputId": "605e6f1f-969f-46c0-bbc5-c2816fe1284a"
      },
      "outputs": [
        {
          "data": {
            "application/vnd.google.colaboratory.intrinsic+json": {
              "type": "string"
            },
            "text/plain": [
              "'Había una vez al \"_Almirante Benbow_.\" --¡Oh! grité yo, ¡deténganlo! ¡ese es Black Dog! --No me importa mucho quien pueda ser, exclamó Silver, pero no ha pagado su cuenta. ¡Harry, corre y atrápalo! Uno de los otros que estaban cerca de la puerta se puso en pie de un salto y se precipitó afuera en persecución del'"
            ]
          },
          "execution_count": 13,
          "metadata": {},
          "output_type": "execute_result"
        }
      ],
      "source": [
        "generate_beam_search(model, \"Había una vez\", length=300, beam_width=5)"
      ]
    },
    {
      "cell_type": "markdown",
      "metadata": {
        "id": "sJY3VzjXcdUV"
      },
      "source": [
        "**Conclusiones:**\n",
        "\n",
        "Ese texto generado tiene:\n",
        "\n",
        "- Coherencia narrativa: mantiene personajes reales del libro como Black Dog y Silver.\n",
        "\n",
        "- Estilo fluido: signos de puntuación, mayúsculas y saltos de diálogo bien colocados.\n",
        "\n",
        "- Contexto alineado: sigue el tono de “Había una vez…” con un desarrollo lógico de escena.\n",
        "\n",
        "- Eso indica que el modelo aprendió patrones lingüísticos y estructuras narrativas reales del corpus, a pesar de que fue entrenado solo unas pocas épocas y con steps_per_epoch reducido"
      ]
    },
    {
      "cell_type": "markdown",
      "metadata": {
        "id": "Dp0mDIfsdTWM"
      },
      "source": [
        "#### Función de beam search estocástico con temperatura:"
      ]
    },
    {
      "cell_type": "code",
      "execution_count": 16,
      "metadata": {
        "id": "X8YESSLQdS6M"
      },
      "outputs": [],
      "source": [
        "def generate_beam_search_stochastic(model, start_text, length=300, beam_width=3, temperature=1.0):\n",
        "    input_ids = encode_text(start_text)\n",
        "    sequences = [(0.0, input_ids)]\n",
        "\n",
        "    for _ in range(length):\n",
        "        all_candidates = []\n",
        "\n",
        "        for log_prob, seq in sequences:\n",
        "            input_eval = tf.expand_dims(seq[-seq_length:], 0)\n",
        "            predictions = model(input_eval)\n",
        "            predictions = predictions[:, -1, :].numpy()[0]\n",
        "\n",
        "            # Aplicar temperatura\n",
        "            predictions = np.log(predictions + 1e-10) / temperature\n",
        "            probs = np.exp(predictions)\n",
        "            probs /= np.sum(probs)\n",
        "\n",
        "            # Elegir beam_width candidatos aleatoriamente\n",
        "            sampled_ids = np.random.choice(len(probs), size=beam_width, p=probs)\n",
        "\n",
        "            for idx in sampled_ids:\n",
        "                candidate = (log_prob + np.log(probs[idx] + 1e-10), seq + [idx])\n",
        "                all_candidates.append(candidate)\n",
        "\n",
        "        # Mantener solo los beam_width mejores\n",
        "        sequences = heapq.nlargest(beam_width, all_candidates, key=lambda x: x[0])\n",
        "\n",
        "    best_seq = max(sequences, key=lambda x: x[0])[1]\n",
        "    return decode_sequence(best_seq)"
      ]
    },
    {
      "cell_type": "code",
      "execution_count": 17,
      "metadata": {
        "colab": {
          "base_uri": "https://localhost:8080/",
          "height": 53
        },
        "id": "WuERmDzkeFth",
        "outputId": "18035f93-5f92-46f4-d1f8-92fee1a7afe9"
      },
      "outputs": [
        {
          "data": {
            "application/vnd.google.colaboratory.intrinsic+json": {
              "type": "string"
            },
            "text/plain": [
              "'Había una vez y vámonos. Por último llegamos á nuestro barco en el cual nos recibió, en cuanto saltamos á bordo, el pisancer que tomó la verdad es que tenía yo tanta hambre como un halcón. En el interín, el Sr. Trelawney lo de los filibusteros? Pues este era uno de ellos. --¡Es posible!, exclamó Silver. ¡Y semej'"
            ]
          },
          "execution_count": 17,
          "metadata": {},
          "output_type": "execute_result"
        }
      ],
      "source": [
        "generate_beam_search_stochastic(\n",
        "    model,\n",
        "    start_text=\"Había una vez\",\n",
        "    length=300,\n",
        "    beam_width=5,\n",
        "    temperature=0.8  # Se podria probar con 0.5, 1.0, 1.2...\n",
        ")"
      ]
    },
    {
      "cell_type": "markdown",
      "metadata": {
        "id": "2EtKoRupfGIV"
      },
      "source": [
        "**Conclusiones:**\n",
        "\n",
        "- Se nota que el modelo, con beam search estocástico + temperatura, generó un texto:\n",
        "\n",
        "- Narrativamente coherente, usando personajes del corpus como Trelawney y Silver.\n",
        "\n",
        "- Con creatividad controlada, gracias a la temperatura: hay algo de imprevisibilidad, pero sigue siendo fluido.\n",
        "\n",
        "- Con diálogos y puntuación bien formateados, lo que indica que captó estructuras narrativas reales del libro.\n",
        "\n",
        "- Este resultado muestra que el modelo aprendió tanto estilo como contenido del corpus y que la generación estocástica introduce variabilidad sin romper la coherencia."
      ]
    },
    {
      "cell_type": "markdown",
      "metadata": {},
      "source": [
        "### 8 - Interfaz interactiva con Gradio (opcional)\n",
        "\n",
        "Para facilitar la prueba del modelo y permitir la generación de texto de forma accesible e intuitiva, se integró una interfaz web utilizando la librería Gradio."
      ]
    },
    {
      "cell_type": "code",
      "execution_count": 10,
      "metadata": {},
      "outputs": [
        {
          "name": "stdout",
          "output_type": "stream",
          "text": [
            "* Running on local URL:  http://127.0.0.1:7861\n",
            "* Running on public URL: https://c611facaaaee7c51d4.gradio.live\n",
            "\n",
            "This share link expires in 72 hours. For free permanent hosting and GPU upgrades, run `gradio deploy` from the terminal in the working directory to deploy to Hugging Face Spaces (https://huggingface.co/spaces)\n"
          ]
        },
        {
          "data": {
            "text/html": [
              "<div><iframe src=\"https://c611facaaaee7c51d4.gradio.live\" width=\"100%\" height=\"500\" allow=\"autoplay; camera; microphone; clipboard-read; clipboard-write;\" frameborder=\"0\" allowfullscreen></iframe></div>"
            ],
            "text/plain": [
              "<IPython.core.display.HTML object>"
            ]
          },
          "metadata": {},
          "output_type": "display_data"
        },
        {
          "data": {
            "text/plain": []
          },
          "execution_count": 10,
          "metadata": {},
          "output_type": "execute_result"
        }
      ],
      "source": [
        "#!pip install -q gradio\n",
        "\n",
        "import gradio as gr\n",
        "\n",
        "# Función general de generación\n",
        "def generar_texto(input_text, estrategia, longitud, beam_width, temperatura):\n",
        "    if estrategia == \"Greedy\":\n",
        "        return generate_greedy(model, input_text, length=longitud)\n",
        "    elif estrategia == \"Beam search determinístico\":\n",
        "        return generate_beam_search(model, input_text, length=longitud, beam_width=beam_width)\n",
        "    elif estrategia == \"Beam search estocástico\":\n",
        "        return generate_beam_search_stochastic(\n",
        "            model, input_text, length=longitud, beam_width=beam_width, temperature=temperatura\n",
        "        )\n",
        "    else:\n",
        "        return \"Estrategia no válida\"\n",
        "\n",
        "# Interfaz Gradio\n",
        "gr.Interface(\n",
        "    fn=generar_texto,\n",
        "    inputs=[\n",
        "        gr.Textbox(lines=2, label=\"Texto inicial\", placeholder=\"Ej: Había una vez...\"),\n",
        "        gr.Radio([\"Greedy\", \"Beam search determinístico\", \"Beam search estocástico\"], label=\"Estrategia\"),\n",
        "        gr.Slider(100, 1000, value=300, label=\"Longitud del texto generado\"),\n",
        "        gr.Slider(1, 10, value=3, step=1, label=\"Beam width\"),\n",
        "        gr.Slider(0.2, 2.0, value=1.0, step=0.1, label=\"Temperatura\")\n",
        "    ],\n",
        "    outputs=gr.Textbox(label=\"Texto generado\"),\n",
        "    title=\"Generador de texto con modelo LSTM\",\n",
        "    description=\"Testear el modelo con distintas estrategias de generación. El texto base proviene de La isla del tesoro.\"\n",
        ").launch(share=True)"
      ]
    }
  ],
  "metadata": {
    "accelerator": "GPU",
    "colab": {
      "gpuType": "T4",
      "provenance": []
    },
    "kernelspec": {
      "display_name": "Python (myenv)",
      "language": "python",
      "name": "myenv"
    },
    "language_info": {
      "codemirror_mode": {
        "name": "ipython",
        "version": 3
      },
      "file_extension": ".py",
      "mimetype": "text/x-python",
      "name": "python",
      "nbconvert_exporter": "python",
      "pygments_lexer": "ipython3",
      "version": "3.12.7"
    }
  },
  "nbformat": 4,
  "nbformat_minor": 0
}
