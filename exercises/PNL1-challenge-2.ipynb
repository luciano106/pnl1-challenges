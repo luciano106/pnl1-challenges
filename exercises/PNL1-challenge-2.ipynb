{
 "cells": [
  {
   "cell_type": "markdown",
   "id": "uOwdGLu5jEGf",
   "metadata": {
    "id": "uOwdGLu5jEGf"
   },
   "source": [
    "# Implementación del Desafío 2 (PNL1)\n",
    "\n",
    "**Alumno:**\n",
    "- Adassus, Luciano (CEIA 17Co2024)\n",
    "\n",
    "**Objetivo:**\n",
    "\n",
    "El objetivo de este trabajo es crear vectores de palabras propios utilizando **Word2Vec de Gensim**, entrenados sobre el texto literario completo de *Don Quijote de la Mancha*. Para lograrlo, se realizó un preprocesamiento del corpus, segmentando el contenido en oraciones y tokens significativos, utilizando técnicas lingüísticas adecuadas con **spaCy**.\n",
    "\n",
    "A partir del modelo entrenado, se exploró el **espacio de embeddings** obtenido mediante visualizaciones en 2D y 3D, empleando **PCA** y **TSNE**, con el fin de observar la distribución semántica de los vectores y los agrupamientos emergentes. Además, se evaluaron **similitudes entre términos clave** del universo narrativo de la obra, analizando sus contextos, relaciones y distancias dentro del espacio vectorial.\n"
   ]
  },
  {
   "cell_type": "code",
   "execution_count": 4,
   "id": "ab4bcca4",
   "metadata": {
    "executionInfo": {
     "elapsed": 6,
     "status": "ok",
     "timestamp": 1742759921413,
     "user": {
      "displayName": "Luciano Adassus",
      "userId": "09316775003702504774"
     },
     "user_tz": 180
    },
    "id": "ab4bcca4"
   },
   "outputs": [],
   "source": [
    "import pandas as pd\n",
    "import matplotlib.pyplot as plt\n",
    "import seaborn as sns\n",
    "import multiprocessing\n",
    "import numpy as np\n",
    "import requests\n",
    "import spacy\n",
    "import importlib.util\n",
    "import plotly.express as px\n",
    "\n",
    "from gensim.models import Word2Vec\n",
    "from gensim.models.callbacks import CallbackAny2Vec\n",
    "from sklearn.decomposition import PCA\n",
    "from sklearn.decomposition import IncrementalPCA\n",
    "from sklearn.manifold import TSNE\n",
    "\n"
   ]
  },
  {
   "cell_type": "markdown",
   "id": "65af8087",
   "metadata": {
    "id": "65af8087"
   },
   "source": [
    "### 1 - Descargar el texto de Don Quijote"
   ]
  },
  {
   "cell_type": "code",
   "execution_count": 5,
   "id": "4040ecce",
   "metadata": {
    "colab": {
     "base_uri": "https://localhost:8080/"
    },
    "executionInfo": {
     "elapsed": 489,
     "status": "ok",
     "timestamp": 1742759924947,
     "user": {
      "displayName": "Luciano Adassus",
      "userId": "09316775003702504774"
     },
     "user_tz": 180
    },
    "id": "4040ecce",
    "outputId": "1778ad70-d7fb-4936-affe-8279b07d6b1a"
   },
   "outputs": [
    {
     "name": "stdout",
     "output_type": "stream",
     "text": [
      "Texto descargado correctamente.\n"
     ]
    }
   ],
   "source": [
    "# Descargar texto de Don Quijote desde Project Gutenberg\n",
    "url = \"https://www.gutenberg.org/files/2000/2000-0.txt\"\n",
    "response = requests.get(url)\n",
    "texto = response.text\n",
    "\n",
    "# Guardar localmente\n",
    "with open(\"don_quijote.txt\", \"w\", encoding=\"utf-8\") as f:\n",
    "    f.write(texto)\n",
    "\n",
    "print(\"Texto descargado correctamente.\")\n"
   ]
  },
  {
   "cell_type": "markdown",
   "id": "00564b6c",
   "metadata": {
    "id": "00564b6c"
   },
   "source": [
    "### 2 - Preprocesamiento con spaCy (tokenización por oraciones)"
   ]
  },
  {
   "cell_type": "code",
   "execution_count": 14,
   "id": "0f636cd5",
   "metadata": {
    "colab": {
     "base_uri": "https://localhost:8080/"
    },
    "executionInfo": {
     "elapsed": 88593,
     "status": "ok",
     "timestamp": 1742760015945,
     "user": {
      "displayName": "Luciano Adassus",
      "userId": "09316775003702504774"
     },
     "user_tz": 180
    },
    "id": "0f636cd5",
    "outputId": "4f955b9c-53dc-4c6f-bae7-d431f38c932b"
   },
   "outputs": [
    {
     "name": "stdout",
     "output_type": "stream",
     "text": [
      "Cantidad de oraciones procesadas: 8771\n",
      "Ejemplo de tokens: [['de', 'solisdán', 'a', 'don', 'quijote', 'de', 'la', 'mancha', 'soneto', 'maguer', 'señor', 'quijote', 'que', 'sandeces', 'vos', 'tengan', 'el', 'cerbelo', 'derrumbado', 'nunca', 'seréis', 'de', 'alguno', 'reprochado', 'por', 'home', 'de', 'obras', 'viles', 'y', 'soeces'], ['serán', 'vuesas', 'fazañas', 'los', 'joeces', 'pues', 'tuertos', 'desfaciendo', 'habéis', 'andado', 'siendo', 'vegadas', 'mil', 'apaleado', 'por', 'follones', 'cautivos', 'y', 'raheces'], ['y', 'si', 'la', 'vuesa', 'linda', 'dulcinea', 'desaguisado', 'contra', 'vos', 'comete', 'ni', 'a', 'vuesas', 'cuitas', 'muestra', 'buen', 'talante', 'en', 'tal', 'desmán', 'vueso', 'conorte', 'sea', 'que', 'sancho', 'panza', 'fue', 'mal', 'alcagüete', 'necio', 'él', 'dura', 'ella', 'y', 'vos', 'no', 'amante'], ['diálogo', 'entre', 'babieca', 'y', 'rocinante', 'soneto', 'b.', 'cómo', 'estáis', 'rocinante', 'tan', 'delgado', 'r.', 'porque', 'nunca', 'se', 'come', 'y', 'se', 'trabaja'], ['pues', 'qué', 'es', 'de', 'la', 'cebada', 'y', 'de', 'la', 'paja', 'r.', 'no', 'me', 'deja', 'mi', 'amo', 'ni', 'un', 'bocado']]\n"
     ]
    }
   ],
   "source": [
    "# Verificar y cargar modelo de spaCy\n",
    "model_name = \"es_core_news_sm\"\n",
    "\n",
    "if importlib.util.find_spec(model_name) is None:\n",
    "    print(f\"Modelo '{model_name}' no encontrado. Instalando...\")\n",
    "    from spacy.cli import download\n",
    "    download(model_name)\n",
    "\n",
    "nlp = spacy.load(model_name)\n",
    "nlp.max_length = 2_500_000\n",
    "\n",
    "# Leer texto\n",
    "with open(\"don_quijote.txt\", \"r\", encoding=\"utf-8\") as f:\n",
    "    corpus = f.read()\n",
    "\n",
    "# Procesar con spaCy\n",
    "doc = nlp(corpus)\n",
    "\n",
    "# Tokenizar por oraciones y palabras\n",
    "sentence_tokens = []\n",
    "for sent in doc.sents:\n",
    "    tokens = [token.text.lower() for token in sent if not token.is_punct and not token.is_space]\n",
    "    if len(tokens) > 2:\n",
    "        sentence_tokens.append(tokens)\n",
    "\n",
    "print(\"Cantidad de oraciones procesadas:\", len(sentence_tokens))\n",
    "print(\"Ejemplo de tokens:\", sentence_tokens[100:105])\n"
   ]
  },
  {
   "cell_type": "markdown",
   "id": "797f19ca",
   "metadata": {
    "id": "797f19ca"
   },
   "source": [
    "### 3 - Callback de entrenamiento (loss por época)"
   ]
  },
  {
   "cell_type": "code",
   "execution_count": 15,
   "id": "37f7af55",
   "metadata": {
    "executionInfo": {
     "elapsed": 6,
     "status": "ok",
     "timestamp": 1742760028014,
     "user": {
      "displayName": "Luciano Adassus",
      "userId": "09316775003702504774"
     },
     "user_tz": 180
    },
    "id": "37f7af55"
   },
   "outputs": [],
   "source": [
    "# Callback para imprimir el loss después de cada época\n",
    "class callback(CallbackAny2Vec):\n",
    "    def __init__(self):\n",
    "        self.epoch = 0\n",
    "        self.loss_previous_step = 0\n",
    "\n",
    "    def on_epoch_end(self, model):\n",
    "        loss = model.get_latest_training_loss()\n",
    "        print(f\"Loss after epoch {self.epoch}: {loss - self.loss_previous_step}\")\n",
    "        self.loss_previous_step = loss\n",
    "        self.epoch += 1\n"
   ]
  },
  {
   "cell_type": "markdown",
   "id": "23d8edb1",
   "metadata": {
    "id": "23d8edb1"
   },
   "source": [
    "### 4 - Entrenamiento del modelo Word2Vec"
   ]
  },
  {
   "cell_type": "code",
   "execution_count": 16,
   "id": "da238353",
   "metadata": {
    "colab": {
     "base_uri": "https://localhost:8080/"
    },
    "executionInfo": {
     "elapsed": 14889,
     "status": "ok",
     "timestamp": 1742760046121,
     "user": {
      "displayName": "Luciano Adassus",
      "userId": "09316775003702504774"
     },
     "user_tz": 180
    },
    "id": "da238353",
    "outputId": "7b2d3bd4-d2a9-40ae-b520-ecd443575a98"
   },
   "outputs": [
    {
     "name": "stdout",
     "output_type": "stream",
     "text": [
      "Loss after epoch 0: 67499.265625\n",
      "Loss after epoch 1: 60068.5\n",
      "Loss after epoch 2: 62551.90625\n",
      "Loss after epoch 3: 61304.34375\n",
      "Loss after epoch 4: 44721.703125\n",
      "Loss after epoch 5: 58191.1875\n",
      "Loss after epoch 6: 57371.40625\n",
      "Loss after epoch 7: 55729.09375\n",
      "Loss after epoch 8: 54818.875\n",
      "Loss after epoch 9: 54418.21875\n",
      "Loss after epoch 10: 53805.125\n",
      "Loss after epoch 11: 47219.1875\n",
      "Loss after epoch 12: 51736.0625\n",
      "Loss after epoch 13: 51079.125\n",
      "Loss after epoch 14: 44853.625\n",
      "Loss after epoch 15: 50727.3125\n",
      "Loss after epoch 16: 49953.125\n",
      "Loss after epoch 17: 49840.8125\n",
      "Loss after epoch 18: 49404.875\n",
      "Loss after epoch 19: 49222.125\n"
     ]
    }
   ],
   "source": [
    "cores = multiprocessing.cpu_count()\n",
    "\n",
    "model = Word2Vec(sentences=sentence_tokens,\n",
    "                 vector_size=100,\n",
    "                 window=5,\n",
    "                 min_count=2,\n",
    "                 workers=cores-1,\n",
    "                 compute_loss=True)\n",
    "\n",
    "model.train(sentence_tokens, total_examples=len(sentence_tokens), epochs=20, callbacks=[callback()], compute_loss=True)\n",
    "model.save(\"word2vec_don_quijote_callback.model\")\n"
   ]
  },
  {
   "cell_type": "markdown",
   "id": "284ea920",
   "metadata": {
    "id": "284ea920"
   },
   "source": [
    "### 5 - Evaluación del modelo"
   ]
  },
  {
   "cell_type": "code",
   "execution_count": 17,
   "id": "bb571364",
   "metadata": {
    "colab": {
     "base_uri": "https://localhost:8080/"
    },
    "executionInfo": {
     "elapsed": 111,
     "status": "ok",
     "timestamp": 1742760050676,
     "user": {
      "displayName": "Luciano Adassus",
      "userId": "09316775003702504774"
     },
     "user_tz": 180
    },
    "id": "bb571364",
    "outputId": "25bd567c-8f05-447d-ba36-ff25ace22e4a"
   },
   "outputs": [
    {
     "name": "stdout",
     "output_type": "stream",
     "text": [
      "Palabras similares a 'quijote':\n",
      "[('luis', 0.6669001579284668), ('jerónimo', 0.6608520746231079), ('álvaro', 0.660664439201355), ('antonio', 0.6288514137268066), ('gregorio', 0.6195014119148254)]\n",
      "\n",
      "Palabras similares a 'sancho':\n",
      "[('teresa', 0.608799934387207), ('ambrosio', 0.4994971454143524), ('juana', 0.48094308376312256), ('ricote', 0.4642143249511719), ('paje', 0.44958987832069397)]\n",
      "\n",
      "Palabras similares a 'caballero':\n",
      "[('caballería', 0.7016296982765198), ('hidalgo', 0.5822754502296448), ('hombre', 0.5179394483566284), ('ínclito', 0.49244818091392517), ('capitán', 0.4845801591873169)]\n",
      "\n",
      "Palabras similares a 'aventura':\n",
      "[('famosa', 0.671383798122406), ('historia', 0.6637402176856995), ('batalla', 0.6356716752052307), ('cueva', 0.6150319576263428), ('nueva', 0.6128935217857361)]\n",
      "\n",
      "Palabras similares a 'molino':\n",
      "[('alcornoque', 0.8036727905273438), ('bonetillo', 0.7767468690872192), ('ojo', 0.7650529742240906), ('punta', 0.7624101042747498), ('hueco', 0.7558133006095886)]\n",
      "\n"
     ]
    }
   ],
   "source": [
    "model = Word2Vec.load(\"word2vec_don_quijote_callback.model\")\n",
    "\n",
    "palabras = ['quijote', 'sancho', 'caballero', 'aventura', 'molino']\n",
    "\n",
    "for palabra in palabras:\n",
    "    if palabra in model.wv:\n",
    "        print(f\"Palabras similares a '{palabra}':\")\n",
    "        print(model.wv.most_similar(palabra, topn=5))\n",
    "        print()\n",
    "    else:\n",
    "        print(f\"'{palabra}' no se encuentra en el vocabulario.\\n\")\n"
   ]
  },
  {
   "cell_type": "markdown",
   "id": "8e687efe",
   "metadata": {
    "id": "8e687efe"
   },
   "source": [
    "**Conclusión:**\n",
    "\n",
    "- Al evaluar las palabras clave (`quijote`, `sancho`, `caballero`, `aventura`, `molino`), observamos que el modelo Word2Vec entrenado con el texto de Don Quijote logra capturar relaciones semánticas coherentes dentro del contexto narrativo de la obra. Las palabras similares identificadas por el modelo reflejan coapariciones frecuentes y vínculos temáticos, como nombres de personajes, atributos de caballería o elementos de aventuras.\n",
    "\n",
    "- También notamos que al aumentar la cantidad de épocas de entrenamiento, algunas similitudes se debilitan. Esto sugiere que el modelo puede sobreajustarse a patrones menos relevantes si se entrena en exceso sobre un corpus literario específico y limitado. En particular, términos como `'molino'` comienzan a asociarse con palabras menos intuitivas, lo cual puede deberse a baja frecuencia o alta variabilidad de contexto.\n",
    "\n",
    "- En conjunto, los resultados muestran que el modelo es capaz de aprender representaciones útiles del lenguaje literario, aunque es importante balancear la cantidad de entrenamiento para preservar relaciones semánticas significativas.\n"
   ]
  },
  {
   "cell_type": "markdown",
   "id": "5efd3cf3",
   "metadata": {
    "id": "5efd3cf3"
   },
   "source": [
    "### 6 - Ensayo: análisis semántico entre términos"
   ]
  },
  {
   "cell_type": "code",
   "execution_count": 19,
   "id": "20e184c7",
   "metadata": {
    "colab": {
     "base_uri": "https://localhost:8080/"
    },
    "executionInfo": {
     "elapsed": 5,
     "status": "ok",
     "timestamp": 1742760056115,
     "user": {
      "displayName": "Luciano Adassus",
      "userId": "09316775003702504774"
     },
     "user_tz": 180
    },
    "id": "20e184c7",
    "outputId": "41eb4afa-0d9d-42aa-8a13-10e280cec894"
   },
   "outputs": [
    {
     "name": "stdout",
     "output_type": "stream",
     "text": [
      "Similitud entre 'quijote' y 'sancho': 0.3599\n",
      "Similitud entre 'quijote' y 'caballero': 0.2442\n",
      "Similitud entre 'quijote' y 'molino': 0.0613\n",
      "Similitud entre 'caballero' y 'aventura': 0.2926\n",
      "Similitud entre 'molino' y 'aventura': 0.2072\n",
      "Similitud entre 'quijote' y 'aventura': 0.1433\n",
      "Similitud entre 'quijote' y 'dios': -0.0001\n",
      "Similitud entre 'molino' y 'enemigo': 0.2815\n"
     ]
    }
   ],
   "source": [
    "# Analizar similitud entre pares de palabras específicas\n",
    "pares = [\n",
    "    ('quijote', 'sancho'),\n",
    "    ('quijote', 'caballero'),\n",
    "    ('quijote', 'molino'),\n",
    "    ('caballero', 'aventura'),\n",
    "    ('molino', 'aventura'),\n",
    "    ('quijote', 'aventura'),\n",
    "    ('quijote', 'dios'),\n",
    "    ('molino', 'enemigo')\n",
    "]\n",
    "\n",
    "for w1, w2 in pares:\n",
    "    if w1 in model.wv and w2 in model.wv:\n",
    "        sim = model.wv.similarity(w1, w2)\n",
    "        print(f\"Similitud entre '{w1}' y '{w2}': {sim:.4f}\")\n",
    "    else:\n",
    "        print(f\"Una de las palabras no está en el vocabulario: '{w1}' o '{w2}'\\n\")\n"
   ]
  },
  {
   "cell_type": "markdown",
   "id": "0108c0eb",
   "metadata": {
    "id": "0108c0eb"
   },
   "source": [
    "**Conclusión:**\n",
    "\n",
    "- Al evaluar las palabras clave (`quijote`, `sancho`, `caballero`, `aventura`, `molino`), observamos que el modelo Word2Vec entrenado con el texto de *Don Quijote* logra capturar relaciones semánticas coherentes dentro del universo narrativo de la obra.\n",
    "\n",
    "- A través del análisis de similitud entre pares de palabras, se evidencian relaciones consistentes:\n",
    "\n",
    "  - `'quijote'` y `'sancho'` presentan una similitud moderada (~0.35), lo cual es esperable dada su constante aparición conjunta.\n",
    "  - `'caballero'` y `'aventura'` (~ 0.29) o `'molino'` y `'enemigo'` (~0.28), reflejan asociaciones narrativas típicas del contexto del libro.\n",
    "  - Similitudes más bajas o negativas (como `'quijote'` y `'dios'`: -0.0001) indican que no hay una relación semántica fuerte en el corpus entre esos términos.\n",
    "\n",
    "- Algunas relaciones como `'quijote'` y `'molino'` (~0.06) son más débiles de lo esperado, probablemente debido a que `'molino'` aparece en un contexto muy puntual y no se repite con frecuencia suficiente para consolidar su vector en el espacio semántico.\n",
    "\n",
    "- Estos resultados confirman que el modelo capta bien las asociaciones más fuertes del texto, pero también resaltan la sensibilidad del embedding a la frecuencia y variedad contextual de cada término.\n"
   ]
  },
  {
   "cell_type": "markdown",
   "id": "5b337b5c",
   "metadata": {
    "id": "5b337b5c"
   },
   "source": [
    "### 7 - Visualización del espacio de embeddings (PSA)"
   ]
  },
  {
   "cell_type": "code",
   "execution_count": 20,
   "id": "38727efd",
   "metadata": {
    "colab": {
     "base_uri": "https://localhost:8080/",
     "height": 719
    },
    "executionInfo": {
     "elapsed": 547,
     "status": "ok",
     "timestamp": 1742760087616,
     "user": {
      "displayName": "Luciano Adassus",
      "userId": "09316775003702504774"
     },
     "user_tz": 180
    },
    "id": "38727efd",
    "outputId": "e7b61eb8-788c-41ea-bec5-1b20db10b102"
   },
   "outputs": [
    {
     "data": {
      "image/png": "[encoded data removed]",
      "text/plain": [
       "<Figure size 1000x800 with 1 Axes>"
      ]
     },
     "metadata": {},
     "output_type": "display_data"
    }
   ],
   "source": [
    "# Palabras a visualizar\n",
    "palabras_a_visualizar = palabras.copy()\n",
    "for palabra in palabras:\n",
    "    if palabra in model.wv:\n",
    "        palabras_a_visualizar += [w for w, _ in model.wv.most_similar(palabra, topn=3)]\n",
    "\n",
    "# Eliminar duplicados\n",
    "palabras_a_visualizar = list(set([p for p in palabras_a_visualizar if p in model.wv]))\n",
    "embeddings = [model.wv[p] for p in palabras_a_visualizar]\n",
    "\n",
    "# PCA\n",
    "pca = PCA(n_components=2)\n",
    "result = pca.fit_transform(embeddings)\n",
    "\n",
    "# Graficar\n",
    "plt.figure(figsize=(10, 8))\n",
    "plt.scatter(result[:, 0], result[:, 1])\n",
    "for i, palabra in enumerate(palabras_a_visualizar):\n",
    "    plt.annotate(palabra, xy=(result[i, 0], result[i, 1]))\n",
    "plt.title(\"Visualización del espacio de embeddings - Don Quijote\")\n",
    "plt.xlabel(\"Componente 1\")\n",
    "plt.ylabel(\"Componente 2\")\n",
    "plt.grid(True)\n",
    "plt.show()\n"
   ]
  },
  {
   "cell_type": "markdown",
   "id": "fca8b493",
   "metadata": {
    "id": "fca8b493"
   },
   "source": [
    "### 8 - Visualización de la agrupación de vectores (TSNE)"
   ]
  },
  {
   "cell_type": "markdown",
   "id": "f6c17bac",
   "metadata": {
    "id": "f6c17bac"
   },
   "source": [
    "**Visualización 2D:**"
   ]
  },
  {
   "cell_type": "code",
   "execution_count": 21,
   "id": "6b6e13f6",
   "metadata": {
    "colab": {
     "base_uri": "https://localhost:8080/",
     "height": 873
    },
    "executionInfo": {
     "elapsed": 84441,
     "status": "ok",
     "timestamp": 1742760190739,
     "user": {
      "displayName": "Luciano Adassus",
      "userId": "09316775003702504774"
     },
     "user_tz": 180
    },
    "id": "6b6e13f6",
    "outputId": "c7369768-5fad-46e8-bdd9-339daaed941b"
   },
   "outputs": [
    {
     "data": {
      "image/png": "[encoded data removed]",
      "text/plain": [
       "<Figure size 1200x1000 with 1 Axes>"
      ]
     },
     "metadata": {},
     "output_type": "display_data"
    }
   ],
   "source": [
    "def reduce_dimensions(model, num_dimensions=2):\n",
    "    vectors = np.asarray(model.wv.vectors)\n",
    "    labels = np.asarray(model.wv.index_to_key)\n",
    "\n",
    "    tsne = TSNE(n_components=num_dimensions, random_state=0, perplexity=40, max_iter=300)\n",
    "    reduced_vectors = tsne.fit_transform(vectors)\n",
    "\n",
    "    return reduced_vectors, labels\n",
    "\n",
    "# Reducir dimensiones a 2D para graficar\n",
    "vec_2d, labels = reduce_dimensions(model)\n",
    "\n",
    "# Graficar una muestra\n",
    "# Versión legible del gráfico TSNE 2D con menos palabras\n",
    "n = 100  # cantidad reducida\n",
    "plt.figure(figsize=(12, 10))\n",
    "plt.scatter(vec_2d[:n, 0], vec_2d[:n, 1])\n",
    "for i in range(n):\n",
    "    plt.annotate(labels[i], xy=(vec_2d[i, 0], vec_2d[i, 1]), fontsize=8, alpha=0.75)\n",
    "plt.title(\"Visualización TSNE de los vectores (top 100)\")\n",
    "plt.xlabel(\"x\")\n",
    "plt.ylabel(\"y\")\n",
    "plt.grid(True)\n",
    "plt.show()\n",
    "\n"
   ]
  },
  {
   "cell_type": "markdown",
   "id": "3daa4638",
   "metadata": {
    "id": "3daa4638"
   },
   "source": [
    "**Visualización 3D:**"
   ]
  },
  {
   "cell_type": "code",
   "execution_count": null,
   "id": "33165fa4",
   "metadata": {
    "colab": {
     "base_uri": "https://localhost:8080/",
     "height": 717
    },
    "executionInfo": {
     "elapsed": 227687,
     "status": "ok",
     "timestamp": 1742760434398,
     "user": {
      "displayName": "Luciano Adassus",
      "userId": "09316775003702504774"
     },
     "user_tz": 180
    },
    "id": "33165fa4",
    "outputId": "40a4e52d-3748-4919-a268-bd1d9b17b5df"
   },
   "outputs": [
    {
     "data": {
      "application/vnd.plotly.v1+json": {
       "config": {
        "plotlyServerURL": "https://plot.ly"
       },
       "data": [
        {
         "hovertemplate": "<b>%{hovertext}</b><br><br>x=%{x}<br>y=%{y}<br>z=%{z}<extra></extra>",
         "hovertext": [
          "que",
          "de",
          "y",
          "la",
          "a",
          "en",
          "el",
          "no",
          "los",
          "se",
          "con",
          "por",
          "lo",
          "las",
          "le",
          "su",
          "don",
          "del",
          "me",
          "como",
          "quijote",
          "sancho",
          "es",
          "yo",
          "más",
          "si",
          "un",
          "dijo",
          "al",
          "mi",
          "para",
          "porque",
          "ni",
          "una",
          "él",
          "tan",
          "o",
          "todo",
          "sin",
          "así",
          "señor",
          "ser",
          "respondió",
          "ha",
          "sus",
          "bien",
          "había",
          "pero",
          "merced",
          "esto",
          "pues",
          "vuestra",
          "qué",
          "todos",
          "ya",
          "cuando",
          "era",
          "te",
          "donde",
          "cual",
          "sino",
          "dos",
          "caballero",
          "fue",
          "este",
          "esta",
          "quien",
          "ella",
          "decir",
          "he",
          "muy",
          "hacer",
          "aunque",
          "dios",
          "señora",
          "otra",
          "aquí",
          "otro",
          "mí",
          "aquel",
          "son",
          "estaba",
          "hay",
          "os",
          "mal",
          "sobre",
          "nos",
          "cosa",
          "buen",
          "está",
          "verdad",
          "tal",
          "allí",
          "tanto",
          "ver",
          "tengo",
          "mundo",
          "tiene",
          "luego",
          "sé",
          "mis",
          "hasta",
          "alguna",
          "poco",
          "entre",
          "todas",
          "dicho",
          "dar",
          "ahora",
          "cosas",
          "parte",
          "buena",
          "vida",
          "panza",
          "tenía",
          "uno",
          "han",
          "les",
          "menos",
          "sí",
          "lugar",
          "gran",
          "eso",
          "soy",
          "casa",
          "tu",
          "aquella",
          "manera",
          "tiempo",
          "digo",
          "toda",
          "cura",
          "puesto",
          "mano",
          "dio",
          "amo",
          "mucho",
          "ellos",
          "caballeros",
          "mejor",
          "antes",
          "otros",
          "otras",
          "fuera",
          "visto",
          "dulcinea",
          "ojos",
          "sea",
          "puede",
          "algún",
          "cómo",
          "tierra",
          "día",
          "hecho",
          "quién",
          "tú",
          "historia",
          "quiero",
          "aun",
          "hombre",
          "padre",
          "haber",
          "cielo",
          "habían",
          "amigo",
          "vio",
          "escudero",
          "hizo",
          "saber",
          "camino",
          "parece",
          "estas",
          "muchas",
          "tener",
          "fin",
          "días",
          "mas",
          "manos",
          "cuanto",
          "desta",
          "tres",
          "también",
          "cuenta",
          "mujer",
          "dice",
          "será",
          "cada",
          "nuestro",
          "mesmo",
          "cabeza",
          "punto",
          "noche",
          "vos",
          "fuese",
          "replicó",
          "rocinante",
          "veces",
          "vuesa",
          "grande",
          "razones"
         ],
         "legendgroup": "",
         "marker": {
          "color": "#636efa",
          "opacity": 0.7,
          "size": 3,
          "symbol": "circle"
         },
         "mode": "markers",
         "name": "",
         "scene": "scene",
         "showlegend": false,
         "type": "scatter3d",
         "x": [
          -3.928222417831421,
          -0.5516494512557983,
          2.488187313079834,
          -4.7639384269714355,
          -0.49781957268714905,
          -0.5726667046546936,
          -0.9290123581886292,
          -4.37042236328125,
          6.413320064544678,
          -5.76475191116333,
          1.6449071168899536,
          -0.142347514629364,
          -4.109679222106934,
          5.319589614868164,
          -5.523580551147461,
          -5.099606513977051,
          -4.571547508239746,
          -0.870446503162384,
          -4.222373962402344,
          -0.359634667634964,
          -1.167503833770752,
          -5.22005558013916,
          -3.381483793258667,
          -3.85107159614563,
          0.1966754049062729,
          -4.38704776763916,
          1.553816556930542,
          -4.5322346687316895,
          -1.1467114686965942,
          -4.0563435554504395,
          -3.841364860534668,
          -4.132349014282227,
          -5.178440093994141,
          1.938644528388977,
          -4.7861223220825195,
          -3.9847609996795654,
          0.3428998589515686,
          -4.148931980133057,
          0.1616644710302353,
          -4.028984546661377,
          -4.317821502685547,
          -5.473992347717285,
          -4.498896598815918,
          -1.636107087135315,
          6.279721736907959,
          -3.4628124237060547,
          0.8649622797966003,
          -4.659677028656006,
          -4.808794021606445,
          -4.188303470611572,
          -4.658979892730713,
          -4.723295211791992,
          -5.052073001861572,
          6.324488162994385,
          -6.348332405090332,
          1.0992069244384766,
          4.2463226318359375,
          -3.6537418365478516,
          0.8258973360061646,
          -4.7094221115112305,
          5.3677263259887695,
          6.5458173751831055,
          -4.102846622467041,
          3.508485794067383,
          -3.7294304370880127,
          -5.118782043457031,
          -4.622800827026367,
          -4.801022529602051,
          -4.843846321105957,
          -1.5823500156402588,
          -3.85312557220459,
          -5.1533122062683105,
          -4.083798408508301,
          -3.380880355834961,
          -4.967639446258545,
          -4.861044883728027,
          -4.05451774597168,
          -3.6724584102630615,
          -3.9750356674194336,
          -3.789283037185669,
          6.312422275543213,
          3.0611138343811035,
          6.666784763336182,
          -3.641801357269287,
          -3.3628296852111816,
          2.0416409969329834,
          6.634385108947754,
          -4.991222858428955,
          -3.503176689147949,
          -1.0225155353546143,
          -4.231109619140625,
          -4.862433910369873,
          1.5929224491119385,
          -3.9572629928588867,
          -5.362557411193848,
          -3.2341296672821045,
          -3.407458782196045,
          -3.445194959640503,
          2.8934178352355957,
          -3.363703489303589,
          6.189029693603516,
          0.9329643845558167,
          -4.849801540374756,
          -0.31408241391181946,
          4.7856526374816895,
          5.400625228881836,
          -6.504281520843506,
          -5.182460784912109,
          -3.9515328407287598,
          5.510876178741455,
          -4.929993629455566,
          -4.81321382522583,
          -4.593279838562012,
          -5.087619781494141,
          4.5460638999938965,
          2.4534237384796143,
          -1.6226646900177002,
          4.195003032684326,
          -3.9471018314361572,
          0.2747421860694885,
          -4.1461873054504395,
          0.9578139781951904,
          -4.093600273132324,
          -3.5589702129364014,
          -4.80140495300293,
          -3.8655455112457275,
          -4.649384498596191,
          -5.022796154022217,
          -3.9801993370056152,
          -3.389863967895508,
          -4.7850751876831055,
          -4.682069778442383,
          -6.465303421020508,
          1.544603943824768,
          3.4019763469696045,
          -4.485642433166504,
          -3.7103912830352783,
          6.41172981262207,
          6.422637462615967,
          -3.6633355617523193,
          -4.157434940338135,
          6.342010021209717,
          5.199162006378174,
          -1.9395753145217896,
          -6.516627311706543,
          -4.7026686668396,
          6.023163318634033,
          -3.312138080596924,
          -0.9608912467956543,
          -3.8202202320098877,
          -5.112779140472412,
          -4.798203945159912,
          -4.301567077636719,
          -6.5010600090026855,
          -5.067097187042236,
          -3.628147840499878,
          -4.285161018371582,
          -3.1993002891540527,
          0.6769961714744568,
          -3.4390485286712646,
          -4.430263996124268,
          -1.3746751546859741,
          -3.7724287509918213,
          0.8458907008171082,
          -4.295074462890625,
          3.284919261932373,
          -4.54062032699585,
          3.407872438430786,
          -5.3180060386657715,
          -4.338473320007324,
          -2.9063384532928467,
          5.179862022399902,
          5.198156356811523,
          -5.290767192840576,
          -3.6935136318206787,
          6.649360179901123,
          -4.693286895751953,
          5.369950771331787,
          -4.077974319458008,
          -5.051576137542725,
          6.538307189941406,
          -3.8161089420318604,
          -4.360093116760254,
          -4.754273414611816,
          -2.6866583824157715,
          -3.1877291202545166,
          6.3380022048950195,
          -4.3229804039001465,
          -4.01792573928833,
          1.465933918952942,
          -3.9846043586730957,
          1.1455707550048828,
          -3.6836555004119873,
          -1.0816363096237183,
          -4.4815521240234375,
          1.480257511138916,
          5.462314128875732,
          -4.729158401489258,
          -3.5554404258728027,
          5.680371284484863
         ],
         "y": [
          1.0603941679000854,
          -0.005909223109483719,
          -3.260643482208252,
          -2.698767900466919,
          0.8569760322570801,
          -2.672792911529541,
          -4.852387428283691,
          1.7381458282470703,
          0.23879046738147736,
          0.1800510734319687,
          -3.1479945182800293,
          3.0954904556274414,
          1.0214422941207886,
          -0.23742614686489105,
          0.2161739021539688,
          -1.5141009092330933,
          -2.177515983581543,
          -4.875239849090576,
          1.8303098678588867,
          0.9434241652488708,
          -3.879079580307007,
          -0.41649168729782104,
          3.90162992477417,
          2.6045029163360596,
          -1.2407230138778687,
          1.3553578853607178,
          -4.943808078765869,
          3.0591323375701904,
          -4.867206573486328,
          2.8327205181121826,
          0.6438019871711731,
          1.3375455141067505,
          1.5753426551818848,
          -4.638496398925781,
          0.11368215829133987,
          -0.210476815700531,
          -4.284758567810059,
          0.8961498141288757,
          5.208105087280273,
          1.6211364269256592,
          -0.45405328273773193,
          0.278740257024765,
          3.058335781097412,
          5.526357650756836,
          0.11421603709459305,
          0.26436740159988403,
          5.2367634773254395,
          1.8945027589797974,
          0.22291526198387146,
          0.8222107887268066,
          1.7491216659545898,
          2.8829026222229004,
          1.8405448198318481,
          0.10382725298404694,
          0.2848970293998718,
          1.8711535930633545,
          2.859982490539551,
          3.6512644290924072,
          -3.9390692710876465,
          -2.014911413192749,
          1.0508865118026733,
          -0.8127076625823975,
          -1.9552286863327026,
          -2.329061985015869,
          0.3756836950778961,
          -0.07840003818273544,
          1.1357476711273193,
          0.08369907736778259,
          1.7377116680145264,
          5.503840446472168,
          -1.5199074745178223,
          0.6148877143859863,
          1.1974090337753296,
          4.075289249420166,
          -1.591952919960022,
          -0.3757133185863495,
          2.870474338531494,
          -1.671437382698059,
          2.771644115447998,
          0.12106406688690186,
          0.637140154838562,
          -3.715998411178589,
          0.9782875180244446,
          3.394990921020508,
          -0.15104898810386658,
          -4.457067012786865,
          0.4592835307121277,
          -0.6211085319519043,
          -0.5534996390342712,
          3.877340316772461,
          1.1987484693527222,
          0.09521283209323883,
          -4.0790300369262695,
          0.8506258726119995,
          1.1610631942749023,
          4.07196044921875,
          -0.5619884729385376,
          4.024631023406982,
          -3.5431764125823975,
          3.8078243732452393,
          0.2207508236169815,
          -1.9212403297424316,
          0.11811018735170364,
          -3.994718313217163,
          -2.127509355545044,
          -0.08876869082450867,
          0.2375573068857193,
          0.4015808403491974,
          2.9175028800964355,
          0.21553358435630798,
          -1.0152493715286255,
          -1.611173152923584,
          -0.46222755312919617,
          -0.902803361415863,
          2.341383457183838,
          -5.063355445861816,
          5.545619010925293,
          3.029513359069824,
          1.813313603401184,
          1.4666976928710938,
          -1.349541425704956,
          -4.658751964569092,
          1.448643445968628,
          3.5559449195861816,
          -0.7737968564033508,
          3.397169589996338,
          -2.0939829349517822,
          -1.1396723985671997,
          -1.141721248626709,
          3.7421367168426514,
          -2.6573216915130615,
          -1.9671289920806885,
          0.21663491427898407,
          -4.819094181060791,
          -3.1073408126831055,
          -0.7428395748138428,
          0.29034024477005005,
          0.30103570222854614,
          0.36375612020492554,
          0.9638938307762146,
          1.7382557392120361,
          0.1574890911579132,
          -0.09351065009832382,
          5.066704273223877,
          0.23563802242279053,
          -1.761781096458435,
          -0.9498252868652344,
          4.023004531860352,
          5.327967166900635,
          0.2948768734931946,
          1.7632620334625244,
          -0.6931949853897095,
          -1.4000087976455688,
          0.23110347986221313,
          1.7595493793487549,
          3.649155855178833,
          -2.503138303756714,
          4.2828593254089355,
          2.118260383605957,
          -1.1224918365478516,
          -0.5110791921615601,
          5.534299850463867,
          -0.6253474950790405,
          5.253292083740234,
          -0.033688656985759735,
          -3.2395427227020264,
          -0.7528070211410522,
          -2.929072618484497,
          1.1586521863937378,
          -2.0680654048919678,
          4.379817485809326,
          -0.1285010427236557,
          -0.05853074789047241,
          0.29108232259750366,
          -1.7367209196090698,
          -0.3426308333873749,
          1.7712211608886719,
          -1.7756158113479614,
          0.950810968875885,
          -0.013751460239291191,
          -0.8435255289077759,
          1.2868632078170776,
          -0.356816828250885,
          -0.6123594045639038,
          1.4529930353164673,
          4.1544575691223145,
          -0.6261563897132874,
          -1.7021582126617432,
          0.3633088767528534,
          -4.904857158660889,
          -1.487123727798462,
          -4.952336311340332,
          3.2867848873138428,
          5.111242771148682,
          3.067584276199341,
          -5.200479984283447,
          -0.02738737314939499,
          2.8691680431365967,
          -2.8912405967712402,
          0.11401528120040894
         ],
         "z": [
          2.510190486907959,
          -2.840571880340576,
          -0.9142605066299438,
          1.575927734375,
          -0.14391973614692688,
          -0.15622736513614655,
          0.07353036850690842,
          2.725276470184326,
          -2.9999752044677734,
          3.4778597354888916,
          -2.0193920135498047,
          0.8440827131271362,
          3.2114787101745605,
          -4.08144998550415,
          2.220630645751953,
          2.5653088092803955,
          3.7165029048919678,
          0.1497432291507721,
          2.769686460494995,
          0.22534030675888062,
          2.5583245754241943,
          1.9921709299087524,
          2.4282004833221436,
          2.3828957080841064,
          0.24462097883224487,
          2.381582021713257,
          -0.8431023359298706,
          2.5034801959991455,
          0.0007338756695389748,
          2.119286060333252,
          3.8094377517700195,
          2.3519229888916016,
          3.4616992473602295,
          -1.2919225692749023,
          3.63582181930542,
          3.0180208683013916,
          0.8559201955795288,
          3.464513063430786,
          0.04992157965898514,
          2.014493465423584,
          3.527338743209839,
          3.718656301498413,
          2.494049310684204,
          1.1941920518875122,
          -3.4751737117767334,
          3.6128523349761963,
          -0.2765689790248871,
          2.7648801803588867,
          2.3757612705230713,
          3.2399678230285645,
          2.72987961769104,
          1.6105289459228516,
          2.6346805095672607,
          -2.661083221435547,
          3.2090282440185547,
          -3.5739405155181885,
          -0.37211722135543823,
          2.0511558055877686,
          -2.3174803256988525,
          3.808881998062134,
          -1.511690378189087,
          -3.247833013534546,
          3.7702865600585938,
          -0.1491270363330841,
          2.6582577228546143,
          1.0416438579559326,
          2.5123462677001953,
          3.5681777000427246,
          3.034438133239746,
          1.0994648933410645,
          3.3448662757873535,
          3.7464182376861572,
          2.3136003017425537,
          1.9883601665496826,
          1.9178906679153442,
          1.0784449577331543,
          2.431689977645874,
          3.4089221954345703,
          2.5826988220214844,
          3.826613426208496,
          -2.8527653217315674,
          -1.3360095024108887,
          -2.7204179763793945,
          2.044515371322632,
          3.896040439605713,
          -0.9674103260040283,
          -1.7879058122634888,
          2.9370877742767334,
          3.8513028621673584,
          2.7349343299865723,
          2.6363589763641357,
          1.044543981552124,
          -2.138774871826172,
          3.618561267852783,
          3.330603837966919,
          2.0020384788513184,
          4.251447677612305,
          2.354660749435425,
          -0.6860381364822388,
          1.9639623165130615,
          -3.6667864322662354,
          -3.9353318214416504,
          1.2307770252227783,
          2.4399757385253906,
          -2.2626118659973145,
          -3.944072961807251,
          3.2962255477905273,
          3.832031726837158,
          2.3327462673187256,
          -3.6762049198150635,
          2.7152514457702637,
          1.3655948638916016,
          2.9007105827331543,
          2.9442381858825684,
          -0.07886049151420593,
          -0.8062006235122681,
          1.1883201599121094,
          -0.8326699733734131,
          2.963909149169922,
          1.559065580368042,
          4.416060447692871,
          -0.22811123728752136,
          3.0419957637786865,
          2.0778939723968506,
          2.732107639312744,
          2.0736310482025146,
          1.0328748226165771,
          2.8881239891052246,
          4.412795543670654,
          1.9776006937026978,
          1.6063859462738037,
          3.873509407043457,
          3.2285985946655273,
          -0.917417585849762,
          -0.4029727578163147,
          3.3324716091156006,
          4.106724262237549,
          -2.2068610191345215,
          -2.9010918140411377,
          2.877385377883911,
          2.3087117671966553,
          -2.911288261413574,
          -4.181250095367432,
          1.573622465133667,
          3.3080313205718994,
          1.8117892742156982,
          -2.777789831161499,
          2.2411134243011475,
          1.168457269668579,
          3.7984707355499268,
          2.62790846824646,
          3.226550579071045,
          4.487977504730225,
          3.300010919570923,
          2.6162874698638916,
          2.0383081436157227,
          2.595592737197876,
          1.9119586944580078,
          1.3797214031219482,
          4.093808174133301,
          3.1761486530303955,
          0.9464917778968811,
          4.374853610992432,
          -0.2633388638496399,
          3.274040460586548,
          -0.8290789127349854,
          3.32002854347229,
          -0.3281068205833435,
          3.2684483528137207,
          4.110445022583008,
          1.823616623878479,
          -4.1771697998046875,
          -4.1850810050964355,
          3.752521514892578,
          3.3164942264556885,
          -3.34035062789917,
          2.824956178665161,
          -2.562131404876709,
          3.2206945419311523,
          1.1552361249923706,
          -3.282679796218872,
          1.8416779041290283,
          3.0429930686950684,
          2.488250732421875,
          3.8025529384613037,
          2.2011032104492188,
          -2.1247146129608154,
          2.4456381797790527,
          3.7181341648101807,
          -0.8983824849128723,
          4.420816421508789,
          -1.1200166940689087,
          2.0164926052093506,
          0.9730527400970459,
          2.4711380004882812,
          -0.4648059606552124,
          -3.7961273193359375,
          1.5814130306243896,
          2.8413655757904053,
          -3.3771798610687256
         ]
        }
       ],
       "layout": {
        "height": 700,
        "legend": {
         "tracegroupgap": 0
        },
        "margin": {
         "b": 0,
         "l": 0,
         "r": 0,
         "t": 40
        },
        "scene": {
         "bgcolor": "white",
         "domain": {
          "x": [
           0,
           1
          ],
          "y": [
           0,
           1
          ]
         },
         "xaxis": {
          "title": {
           "text": "x"
          }
         },
         "yaxis": {
          "title": {
           "text": "y"
          }
         },
         "zaxis": {
          "title": {
           "text": "z"
          }
         }
        },
        "template": {
         "data": {
          "bar": [
           {
            "error_x": {
             "color": "#2a3f5f"
            },
            "error_y": {
             "color": "#2a3f5f"
            },
            "marker": {
             "line": {
              "color": "#E5ECF6",
              "width": 0.5
             },
             "pattern": {
              "fillmode": "overlay",
              "size": 10,
              "solidity": 0.2
             }
            },
            "type": "bar"
           }
          ],
          "barpolar": [
           {
            "marker": {
             "line": {
              "color": "#E5ECF6",
              "width": 0.5
             },
             "pattern": {
              "fillmode": "overlay",
              "size": 10,
              "solidity": 0.2
             }
            },
            "type": "barpolar"
           }
          ],
          "carpet": [
           {
            "aaxis": {
             "endlinecolor": "#2a3f5f",
             "gridcolor": "white",
             "linecolor": "white",
             "minorgridcolor": "white",
             "startlinecolor": "#2a3f5f"
            },
            "baxis": {
             "endlinecolor": "#2a3f5f",
             "gridcolor": "white",
             "linecolor": "white",
             "minorgridcolor": "white",
             "startlinecolor": "#2a3f5f"
            },
            "type": "carpet"
           }
          ],
          "choropleth": [
           {
            "colorbar": {
             "outlinewidth": 0,
             "ticks": ""
            },
            "type": "choropleth"
           }
          ],
          "contour": [
           {
            "colorbar": {
             "outlinewidth": 0,
             "ticks": ""
            },
            "colorscale": [
             [
              0,
              "#0d0887"
             ],
             [
              0.1111111111111111,
              "#46039f"
             ],
             [
              0.2222222222222222,
              "#7201a8"
             ],
             [
              0.3333333333333333,
              "#9c179e"
             ],
             [
              0.4444444444444444,
              "#bd3786"
             ],
             [
              0.5555555555555556,
              "#d8576b"
             ],
             [
              0.6666666666666666,
              "#ed7953"
             ],
             [
              0.7777777777777778,
              "#fb9f3a"
             ],
             [
              0.8888888888888888,
              "#fdca26"
             ],
             [
              1,
              "#f0f921"
             ]
            ],
            "type": "contour"
           }
          ],
          "contourcarpet": [
           {
            "colorbar": {
             "outlinewidth": 0,
             "ticks": ""
            },
            "type": "contourcarpet"
           }
          ],
          "heatmap": [
           {
            "colorbar": {
             "outlinewidth": 0,
             "ticks": ""
            },
            "colorscale": [
             [
              0,
              "#0d0887"
             ],
             [
              0.1111111111111111,
              "#46039f"
             ],
             [
              0.2222222222222222,
              "#7201a8"
             ],
             [
              0.3333333333333333,
              "#9c179e"
             ],
             [
              0.4444444444444444,
              "#bd3786"
             ],
             [
              0.5555555555555556,
              "#d8576b"
             ],
             [
              0.6666666666666666,
              "#ed7953"
             ],
             [
              0.7777777777777778,
              "#fb9f3a"
             ],
             [
              0.8888888888888888,
              "#fdca26"
             ],
             [
              1,
              "#f0f921"
             ]
            ],
            "type": "heatmap"
           }
          ],
          "heatmapgl": [
           {
            "colorbar": {
             "outlinewidth": 0,
             "ticks": ""
            },
            "colorscale": [
             [
              0,
              "#0d0887"
             ],
             [
              0.1111111111111111,
              "#46039f"
             ],
             [
              0.2222222222222222,
              "#7201a8"
             ],
             [
              0.3333333333333333,
              "#9c179e"
             ],
             [
              0.4444444444444444,
              "#bd3786"
             ],
             [
              0.5555555555555556,
              "#d8576b"
             ],
             [
              0.6666666666666666,
              "#ed7953"
             ],
             [
              0.7777777777777778,
              "#fb9f3a"
             ],
             [
              0.8888888888888888,
              "#fdca26"
             ],
             [
              1,
              "#f0f921"
             ]
            ],
            "type": "heatmapgl"
           }
          ],
          "histogram": [
           {
            "marker": {
             "pattern": {
              "fillmode": "overlay",
              "size": 10,
              "solidity": 0.2
             }
            },
            "type": "histogram"
           }
          ],
          "histogram2d": [
           {
            "colorbar": {
             "outlinewidth": 0,
             "ticks": ""
            },
            "colorscale": [
             [
              0,
              "#0d0887"
             ],
             [
              0.1111111111111111,
              "#46039f"
             ],
             [
              0.2222222222222222,
              "#7201a8"
             ],
             [
              0.3333333333333333,
              "#9c179e"
             ],
             [
              0.4444444444444444,
              "#bd3786"
             ],
             [
              0.5555555555555556,
              "#d8576b"
             ],
             [
              0.6666666666666666,
              "#ed7953"
             ],
             [
              0.7777777777777778,
              "#fb9f3a"
             ],
             [
              0.8888888888888888,
              "#fdca26"
             ],
             [
              1,
              "#f0f921"
             ]
            ],
            "type": "histogram2d"
           }
          ],
          "histogram2dcontour": [
           {
            "colorbar": {
             "outlinewidth": 0,
             "ticks": ""
            },
            "colorscale": [
             [
              0,
              "#0d0887"
             ],
             [
              0.1111111111111111,
              "#46039f"
             ],
             [
              0.2222222222222222,
              "#7201a8"
             ],
             [
              0.3333333333333333,
              "#9c179e"
             ],
             [
              0.4444444444444444,
              "#bd3786"
             ],
             [
              0.5555555555555556,
              "#d8576b"
             ],
             [
              0.6666666666666666,
              "#ed7953"
             ],
             [
              0.7777777777777778,
              "#fb9f3a"
             ],
             [
              0.8888888888888888,
              "#fdca26"
             ],
             [
              1,
              "#f0f921"
             ]
            ],
            "type": "histogram2dcontour"
           }
          ],
          "mesh3d": [
           {
            "colorbar": {
             "outlinewidth": 0,
             "ticks": ""
            },
            "type": "mesh3d"
           }
          ],
          "parcoords": [
           {
            "line": {
             "colorbar": {
              "outlinewidth": 0,
              "ticks": ""
             }
            },
            "type": "parcoords"
           }
          ],
          "pie": [
           {
            "automargin": true,
            "type": "pie"
           }
          ],
          "scatter": [
           {
            "fillpattern": {
             "fillmode": "overlay",
             "size": 10,
             "solidity": 0.2
            },
            "type": "scatter"
           }
          ],
          "scatter3d": [
           {
            "line": {
             "colorbar": {
              "outlinewidth": 0,
              "ticks": ""
             }
            },
            "marker": {
             "colorbar": {
              "outlinewidth": 0,
              "ticks": ""
             }
            },
            "type": "scatter3d"
           }
          ],
          "scattercarpet": [
           {
            "marker": {
             "colorbar": {
              "outlinewidth": 0,
              "ticks": ""
             }
            },
            "type": "scattercarpet"
           }
          ],
          "scattergeo": [
           {
            "marker": {
             "colorbar": {
              "outlinewidth": 0,
              "ticks": ""
             }
            },
            "type": "scattergeo"
           }
          ],
          "scattergl": [
           {
            "marker": {
             "colorbar": {
              "outlinewidth": 0,
              "ticks": ""
             }
            },
            "type": "scattergl"
           }
          ],
          "scattermapbox": [
           {
            "marker": {
             "colorbar": {
              "outlinewidth": 0,
              "ticks": ""
             }
            },
            "type": "scattermapbox"
           }
          ],
          "scatterpolar": [
           {
            "marker": {
             "colorbar": {
              "outlinewidth": 0,
              "ticks": ""
             }
            },
            "type": "scatterpolar"
           }
          ],
          "scatterpolargl": [
           {
            "marker": {
             "colorbar": {
              "outlinewidth": 0,
              "ticks": ""
             }
            },
            "type": "scatterpolargl"
           }
          ],
          "scatterternary": [
           {
            "marker": {
             "colorbar": {
              "outlinewidth": 0,
              "ticks": ""
             }
            },
            "type": "scatterternary"
           }
          ],
          "surface": [
           {
            "colorbar": {
             "outlinewidth": 0,
             "ticks": ""
            },
            "colorscale": [
             [
              0,
              "#0d0887"
             ],
             [
              0.1111111111111111,
              "#46039f"
             ],
             [
              0.2222222222222222,
              "#7201a8"
             ],
             [
              0.3333333333333333,
              "#9c179e"
             ],
             [
              0.4444444444444444,
              "#bd3786"
             ],
             [
              0.5555555555555556,
              "#d8576b"
             ],
             [
              0.6666666666666666,
              "#ed7953"
             ],
             [
              0.7777777777777778,
              "#fb9f3a"
             ],
             [
              0.8888888888888888,
              "#fdca26"
             ],
             [
              1,
              "#f0f921"
             ]
            ],
            "type": "surface"
           }
          ],
          "table": [
           {
            "cells": {
             "fill": {
              "color": "#EBF0F8"
             },
             "line": {
              "color": "white"
             }
            },
            "header": {
             "fill": {
              "color": "#C8D4E3"
             },
             "line": {
              "color": "white"
             }
            },
            "type": "table"
           }
          ]
         },
         "layout": {
          "annotationdefaults": {
           "arrowcolor": "#2a3f5f",
           "arrowhead": 0,
           "arrowwidth": 1
          },
          "autotypenumbers": "strict",
          "coloraxis": {
           "colorbar": {
            "outlinewidth": 0,
            "ticks": ""
           }
          },
          "colorscale": {
           "diverging": [
            [
             0,
             "#8e0152"
            ],
            [
             0.1,
             "#c51b7d"
            ],
            [
             0.2,
             "#de77ae"
            ],
            [
             0.3,
             "#f1b6da"
            ],
            [
             0.4,
             "#fde0ef"
            ],
            [
             0.5,
             "#f7f7f7"
            ],
            [
             0.6,
             "#e6f5d0"
            ],
            [
             0.7,
             "#b8e186"
            ],
            [
             0.8,
             "#7fbc41"
            ],
            [
             0.9,
             "#4d9221"
            ],
            [
             1,
             "#276419"
            ]
           ],
           "sequential": [
            [
             0,
             "#0d0887"
            ],
            [
             0.1111111111111111,
             "#46039f"
            ],
            [
             0.2222222222222222,
             "#7201a8"
            ],
            [
             0.3333333333333333,
             "#9c179e"
            ],
            [
             0.4444444444444444,
             "#bd3786"
            ],
            [
             0.5555555555555556,
             "#d8576b"
            ],
            [
             0.6666666666666666,
             "#ed7953"
            ],
            [
             0.7777777777777778,
             "#fb9f3a"
            ],
            [
             0.8888888888888888,
             "#fdca26"
            ],
            [
             1,
             "#f0f921"
            ]
           ],
           "sequentialminus": [
            [
             0,
             "#0d0887"
            ],
            [
             0.1111111111111111,
             "#46039f"
            ],
            [
             0.2222222222222222,
             "#7201a8"
            ],
            [
             0.3333333333333333,
             "#9c179e"
            ],
            [
             0.4444444444444444,
             "#bd3786"
            ],
            [
             0.5555555555555556,
             "#d8576b"
            ],
            [
             0.6666666666666666,
             "#ed7953"
            ],
            [
             0.7777777777777778,
             "#fb9f3a"
            ],
            [
             0.8888888888888888,
             "#fdca26"
            ],
            [
             1,
             "#f0f921"
            ]
           ]
          },
          "colorway": [
           "#636efa",
           "#EF553B",
           "#00cc96",
           "#ab63fa",
           "#FFA15A",
           "#19d3f3",
           "#FF6692",
           "#B6E880",
           "#FF97FF",
           "#FECB52"
          ],
          "font": {
           "color": "#2a3f5f"
          },
          "geo": {
           "bgcolor": "white",
           "lakecolor": "white",
           "landcolor": "#E5ECF6",
           "showlakes": true,
           "showland": true,
           "subunitcolor": "white"
          },
          "hoverlabel": {
           "align": "left"
          },
          "hovermode": "closest",
          "mapbox": {
           "style": "light"
          },
          "paper_bgcolor": "white",
          "plot_bgcolor": "#E5ECF6",
          "polar": {
           "angularaxis": {
            "gridcolor": "white",
            "linecolor": "white",
            "ticks": ""
           },
           "bgcolor": "#E5ECF6",
           "radialaxis": {
            "gridcolor": "white",
            "linecolor": "white",
            "ticks": ""
           }
          },
          "scene": {
           "xaxis": {
            "backgroundcolor": "#E5ECF6",
            "gridcolor": "white",
            "gridwidth": 2,
            "linecolor": "white",
            "showbackground": true,
            "ticks": "",
            "zerolinecolor": "white"
           },
           "yaxis": {
            "backgroundcolor": "#E5ECF6",
            "gridcolor": "white",
            "gridwidth": 2,
            "linecolor": "white",
            "showbackground": true,
            "ticks": "",
            "zerolinecolor": "white"
           },
           "zaxis": {
            "backgroundcolor": "#E5ECF6",
            "gridcolor": "white",
            "gridwidth": 2,
            "linecolor": "white",
            "showbackground": true,
            "ticks": "",
            "zerolinecolor": "white"
           }
          },
          "shapedefaults": {
           "line": {
            "color": "#2a3f5f"
           }
          },
          "ternary": {
           "aaxis": {
            "gridcolor": "white",
            "linecolor": "white",
            "ticks": ""
           },
           "baxis": {
            "gridcolor": "white",
            "linecolor": "white",
            "ticks": ""
           },
           "bgcolor": "#E5ECF6",
           "caxis": {
            "gridcolor": "white",
            "linecolor": "white",
            "ticks": ""
           }
          },
          "title": {
           "x": 0.05
          },
          "xaxis": {
           "automargin": true,
           "gridcolor": "white",
           "linecolor": "white",
           "ticks": "",
           "title": {
            "standoff": 15
           },
           "zerolinecolor": "white",
           "zerolinewidth": 2
          },
          "yaxis": {
           "automargin": true,
           "gridcolor": "white",
           "linecolor": "white",
           "ticks": "",
           "title": {
            "standoff": 15
           },
           "zerolinecolor": "white",
           "zerolinewidth": 2
          }
         }
        },
        "title": {
         "text": "Espacio de Embeddings 3D - TSNE"
        }
       }
      }
     },
     "metadata": {},
     "output_type": "display_data"
    }
   ],
   "source": [
    "vecs_3d, labels_3d = reduce_dimensions(model, num_dimensions=3)\n",
    "MAX_WORDS = 200\n",
    "\n",
    "fig = px.scatter_3d(\n",
    "    x=vecs_3d[:MAX_WORDS, 0],\n",
    "    y=vecs_3d[:MAX_WORDS, 1],\n",
    "    z=vecs_3d[:MAX_WORDS, 2],\n",
    "    hover_name=labels_3d[:MAX_WORDS]\n",
    ")\n",
    "\n",
    "fig.update_traces(marker=dict(size=3, opacity=0.7))\n",
    "fig.update_layout(\n",
    "    title=\"Espacio de Embeddings 3D - TSNE\",\n",
    "    scene=dict(\n",
    "        xaxis_title='x',\n",
    "        yaxis_title='y',\n",
    "        zaxis_title='z',\n",
    "        bgcolor='white'\n",
    "    ),\n",
    "    margin=dict(l=0, r=0, b=0, t=40),\n",
    "    height=700\n",
    ")\n",
    "fig.show()\n"
   ]
  },
  {
   "cell_type": "markdown",
   "id": "M1qT2qfddQcg",
   "metadata": {
    "id": "M1qT2qfddQcg"
   },
   "source": [
    "**Conclusiones sobre visualización del espacio de embeddings (2D y 3D):**\n",
    "\n",
    "La visualización 2D permitió observar agrupamientos semánticos significativos dentro del modelo entrenado:\n",
    "\n",
    "- Palabras funcionales (como *que*, *de*, *lo*, *ya*) aparecen juntas, lo que indica que el modelo las reconoce como de **uso común y gramatical**.\n",
    "- Términos específicos como *quijote* y *vuestra* aparecen **aislados**, reflejando un uso más contextual o narrativo.\n",
    "- Se identificaron **subgrupos semánticos**, como palabras de ubicación (*donde*, *allí*, *cuando*), cuantificadores (*dos*, *todos*, *sus*), o nombres comunes.\n",
    "\n",
    "Por su parte, la visualización 3D refuerza esta interpretación al mostrar:\n",
    "\n",
    "- Un **núcleo denso** de palabras frecuentes y funcionales.\n",
    "- Algunos **clústeres separados** que podrían representar subconjuntos temáticos o entidades más específicas.\n",
    "- La separación espacial facilita explorar relaciones menos evidentes en 2D.\n",
    "\n",
    "Ambas visualizaciones complementan el análisis, mostrando que el modelo logró aprender un espacio semántico razonable a partir del texto de *Don Quijote*, donde la distribución refleja tanto **frecuencia** como **contexto de uso** de las palabras.\n"
   ]
  }
 ],
 "metadata": {
  "colab": {
   "provenance": []
  },
  "kernelspec": {
   "display_name": "Python (myenv)",
   "language": "python",
   "name": "myenv"
  },
  "language_info": {
   "codemirror_mode": {
    "name": "ipython",
    "version": 3
   },
   "file_extension": ".py",
   "mimetype": "text/x-python",
   "name": "python",
   "nbconvert_exporter": "python",
   "pygments_lexer": "ipython3",
   "version": "3.12.7"
  }
 },
 "nbformat": 4,
 "nbformat_minor": 5
}
